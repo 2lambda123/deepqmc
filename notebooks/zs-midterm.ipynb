{
 "cells": [
  {
   "cell_type": "code",
   "execution_count": null,
   "metadata": {},
   "outputs": [],
   "source": [
    "%load_ext autoreload\n",
    "%autoreload 1\n",
    "%aimport  dlqmc.sampling, dlqmc.utils, dlqmc.nn.base, dlqmc.fit\n",
    "%config InlineBackend.figure_format = 'svg' \n",
    "%config InlineBackend.print_figure_kwargs = \\\n",
    "    {'bbox_inches': 'tight', 'dpi': 300}"
   ]
  },
  {
   "cell_type": "code",
   "execution_count": null,
   "metadata": {},
   "outputs": [],
   "source": [
    "import ipywidgets\n",
    "import torch.nn as nn\n",
    "import numpy as np\n",
    "from scipy import special\n",
    "import scipy.stats as sps\n",
    "import matplotlib.pyplot as plt\n",
    "import torch\n",
    "#from torch.utils.data import DataLoader, RandomSampler\n",
    "#from torch.distributions import Normal\n",
    "from pyscf import gto, scf, dft\n",
    "import pyscf\n",
    "from pyscf.data.nist import BOHR\n",
    "import time\n",
    "from functools import partial\n",
    "from tqdm.auto import tqdm, trange\n",
    "from tensorboardX import SummaryWriter\n",
    "\n",
    "from dlqmc.nn.base import * \n",
    "from dlqmc.geom import *\n",
    "from dlqmc.gto import *\n",
    "from dlqmc.nn import *\n",
    "from dlqmc.sampling import langevin_monte_carlo, hmc ,samples_from\n",
    "from dlqmc.fit import *\n",
    "from dlqmc.nn.anti import *\n",
    "#from dlqmc.utils import assign_where\n",
    "from dlqmc.physics import (\n",
    "    local_energy, grad, quantum_force,nuclear_potential,\n",
    "    nuclear_energy, laplacian, electronic_potential\n",
    ")\n",
    "#from dlqmc.analysis import autocorr_coeff, blocking\n",
    "from dlqmc.nn import ssp\n",
    "from dlqmc.nn.hannet import HanNet\n",
    "\n",
    "def normplot(x,y,norm,*args,**kwargs):\n",
    "    if norm:\n",
    "        plt.plot(x,y/np.max(np.abs(y)),*args,**kwargs)\n",
    "    else:\n",
    "        plt.plot(x,y,*args,**kwargs)\n"
   ]
  },
  {
   "cell_type": "code",
   "execution_count": null,
   "metadata": {},
   "outputs": [],
   "source": [
    "print(torch.cuda.memory_allocated())\n",
    "print(torch.cuda.memory_cached(device=None))\n",
    "print(torch.cuda.max_memory_cached(device=None))\n",
    "torch.cuda.empty_cache()"
   ]
  },
  {
   "cell_type": "code",
   "execution_count": null,
   "metadata": {},
   "outputs": [],
   "source": [
    "d_ref_h2p=1.9972 \n",
    "h2p = Geometry([[-d_ref_h2p/2, 0., 0.], [d_ref_h2p/2, 0., 0.]], [1., 1.])\n",
    "#h2p = geomdb['H2+']\n",
    "\n",
    "\n",
    "h2 = geomdb['H2']\n",
    "d_ref_h2 = h2.coords[1][0]\n",
    "h2 = Geometry([[-d_ref_h2/2, 0., 0.], [d_ref_h2/2, 0., 0.]], [1., 1.])"
   ]
  },
  {
   "cell_type": "markdown",
   "metadata": {},
   "source": [
    "### Activation function"
   ]
  },
  {
   "cell_type": "code",
   "execution_count": null,
   "metadata": {},
   "outputs": [],
   "source": [
    "def soft(x):\n",
    "    return np.log(1+np.exp(x))"
   ]
  },
  {
   "cell_type": "code",
   "execution_count": null,
   "metadata": {},
   "outputs": [],
   "source": [
    "x=np.linspace(-5,5,100)\n",
    "def relu(x):\n",
    "    return x*[x>0]\n",
    "plt.figure(figsize=(5,3))\n",
    "plt.plot(x,relu(x).flatten(),color='grey',ls=':',label='relu')\n",
    "#plt.plot(x,ssp(torch.from_numpy(x)).numpy()+np.log(2),color='k',label='shifted softplus')\n",
    "plt.plot(x,soft(x),color='k',label='shifted softplus')\n",
    "plt.legend(loc='upper left')\n",
    "plt.xticks([])\n",
    "plt.yticks([])\n",
    "plt.xlabel(\"in\")\n",
    "plt.ylabel(\"out\")\n",
    "plt.savefig('activation.svg')\n",
    "plt.show()"
   ]
  },
  {
   "cell_type": "markdown",
   "metadata": {},
   "source": [
    "## $ H_2^+$"
   ]
  },
  {
   "cell_type": "code",
   "execution_count": null,
   "metadata": {},
   "outputs": [],
   "source": [
    "mol = gto.M(\n",
    "    atom=[\n",
    "        ['H', (-d_ref_h2p/2, 0, 0)],\n",
    "        ['H', (d_ref_h2p/2, 0, 0)]\n",
    "    ],\n",
    "    unit='bohr',\n",
    "    basis='4-31G',\n",
    "    charge=0,\n",
    "    spin=0,\n",
    ")\n",
    "mf = scf.RHF(mol)\n",
    "mf.kernel()\n",
    "gtowf = TorchGTOSlaterWF(mf)"
   ]
  },
  {
   "cell_type": "code",
   "execution_count": null,
   "metadata": {},
   "outputs": [],
   "source": [
    "n_electrons=1\n",
    "n_up = 1\n",
    "n_down = n_electrons-n_up\n",
    "net = HanNet(h2p,n_up,n_down).cuda()"
   ]
  },
  {
   "cell_type": "code",
   "execution_count": null,
   "metadata": {},
   "outputs": [],
   "source": [
    "if False:\n",
    "    sampler = hmc(\n",
    "        net,\n",
    "        torch.randn(1000, n_electrons, 3, device='cuda')/3,\n",
    "        dysteps=3,\n",
    "        stepsize=0.2,\n",
    "        tau = 0.1,\n",
    "        cutoff = 1.0\n",
    "    )\n",
    "    sampler_gtowf = hmc(\n",
    "        gtowf,\n",
    "        torch.randn(1000, n_electrons, 3, device='cuda')/3,\n",
    "        dysteps=3,\n",
    "        stepsize=0.2,\n",
    "        tau = 0.1,\n",
    "        cutoff = 1.0\n",
    "    )\n",
    "else:\n",
    "    sampler = langevin_monte_carlo(\n",
    "        net,\n",
    "        torch.randn(1000, n_electrons, 3, device='cuda')/3,\n",
    "        tau=0.1,\n",
    "    )\n",
    "    sampler_gtowf = langevin_monte_carlo(\n",
    "        gtowf,\n",
    "        torch.randn(1000, n_electrons, 3, device='cuda')/3,\n",
    "        tau=0.1,\n",
    "    )"
   ]
  },
  {
   "cell_type": "code",
   "execution_count": null,
   "metadata": {},
   "outputs": [],
   "source": [
    "molecule = h2p\n",
    "fit_wfnet(\n",
    "    net,\n",
    "    partial(loss_local_energy, E_ref=-1.1,p=2),\n",
    "    torch.optim.Adam(net.parameters(), lr=1e-3),\n",
    "    wfnet_fit_driver(\n",
    "            sampler,\n",
    "            samplings=range(1),\n",
    "            n_epochs=1,\n",
    "            n_sampling_steps=150,\n",
    "            batch_size=1_000,\n",
    "            n_discard=50,\n",
    "            range_sampling=partial(trange, desc='sampling steps', leave=False),\n",
    "            range_training=partial(trange, desc='training steps', leave=False),\n",
    "        ),\n",
    "    clip_grad = None,\n",
    "    writer = None,\n",
    "    )\n",
    "\n",
    "fit_wfnet(\n",
    "    net,\n",
    "    partial(loss_local_energy, E_ref=None,p=1),\n",
    "    torch.optim.Adam(net.parameters(), lr=1e-3),\n",
    "    wfnet_fit_driver(\n",
    "            sampler,\n",
    "            samplings=range(1),\n",
    "            n_epochs=1,\n",
    "            n_sampling_steps=150,\n",
    "            batch_size=1_000,\n",
    "            n_discard=50,\n",
    "            range_sampling=partial(trange, desc='sampling steps', leave=False),\n",
    "            range_training=partial(trange, desc='training steps', leave=False),\n",
    "        ),\n",
    "    clip_grad = None,\n",
    "    writer = None,\n",
    "    )\n"
   ]
  },
  {
   "cell_type": "code",
   "execution_count": null,
   "metadata": {},
   "outputs": [],
   "source": [
    "x_line = torch.cat((torch.linspace(-3, 3, 5000)[:, None], torch.zeros((5000, 3*n_electrons-1))), dim=1)\n",
    "x_line=x_line.view(-1,n_electrons,3).cuda()\n",
    "#x_line.requires_grad = True\n",
    "dists_elec = pairwise_distance(x_line, x_line)\n",
    "dists_nuc = pairwise_distance(x_line, net.coords[None, ...])\n",
    "dists = torch.cat([dists_elec, dists_nuc], dim=2)\n",
    "dists_basis = net.dist_basis(dists)\n",
    "xs = net.schnet(dists_basis)\n",
    "jastrow = net.orbital(xs).squeeze(dim=-1).sum(dim=-1)\n",
    "normed=True\n",
    "normplot(x_line[:,0 , 0].cpu().detach().numpy(), torch.exp(jastrow).squeeze().cpu().detach().numpy(),label=\"sym\",norm=normed)\n",
    "normplot(x_line[:,0 , 0].cpu().detach().numpy(), net.asymp_nuc(dists_nuc).cpu().detach().numpy(),label=\"asym\",norm=normed)\n",
    "normplot(x_line[:,0 , 0].cpu().detach().numpy(), net(x_line).cpu().detach().numpy(),label=\"WF\",norm=normed,lw=2,color='k')\n",
    "\n",
    "normplot(x_line[:,0 , 0].cpu().detach().numpy(), gtowf(x_line).cpu().detach().numpy(),label=\"HF\",norm=normed)\n",
    "\n",
    "#plt.axhline(0,ls=':',color='k')\n",
    "plt.axvline(h2p.coords[0][0],ls=':',color='k')\n",
    "plt.axvline(h2p.coords[1][0],ls=':',color='k')\n",
    "plt.ylabel(\"wavefunction in arbitrary units\")\n",
    "plt.xlabel(\"position in $a_0$\")\n",
    "#plt.ylim(-1,2)\n",
    "x_line.requires_grad = False\n",
    "plt.legend()\n",
    "#plt.savefig('lastrunwf.png')\n",
    "plt.show()\n",
    "\n",
    "#plt.savefig('lastrunloss.png')\n"
   ]
  },
  {
   "cell_type": "code",
   "execution_count": null,
   "metadata": {},
   "outputs": [],
   "source": [
    "h2p._coords = h2p._coords.cuda()\n",
    "h2p._charges = h2p._charges.cuda()"
   ]
  },
  {
   "cell_type": "code",
   "execution_count": null,
   "metadata": {},
   "outputs": [],
   "source": [
    "plt.plot(\n",
    "    x_line[:, 0, 0].detach().cpu().numpy(),\n",
    "    local_energy(x_line,lambda x: net(x), h2p)[0].cpu().detach().numpy()#*net(x_line).cpu().detach().numpy()**2\n",
    ")\n",
    "plt.ylim((-10, 10));"
   ]
  },
  {
   "cell_type": "code",
   "execution_count": null,
   "metadata": {},
   "outputs": [],
   "source": [
    "t=time.time()\n",
    "samples = samples_from(sampler,range(1000))[0].flatten(end_dim=1)\n",
    "print(\"it took: \"+str(time.time()-t))"
   ]
  },
  {
   "cell_type": "code",
   "execution_count": null,
   "metadata": {},
   "outputs": [],
   "source": [
    "plt.hist2d(\n",
    "    samples[:,0, 0].cpu().detach().numpy(),\n",
    "    samples[:,0, 1].cpu().detach().numpy(),\n",
    "    bins=100,\n",
    "    range=[[-3, 3], [-3, 3]],\n",
    ")                                   \n",
    "plt.gca().set_aspect(1)"
   ]
  },
  {
   "cell_type": "code",
   "execution_count": null,
   "metadata": {},
   "outputs": [],
   "source": [
    "E_loc = dlqmc.utils.batch_eval_tuple(partial(local_energy, wf=lambda x: net(x),geom=h2p),tqdm(samples.view([-1,n_electrons,3]).split(1000)))[0]"
   ]
  },
  {
   "cell_type": "code",
   "execution_count": null,
   "metadata": {},
   "outputs": [],
   "source": [
    "t=time.time()\n",
    "samples = samples_from(sampler_gtowf,range(1000))[0].flatten(end_dim=1)\n",
    "print(\"it took: \"+str(time.time()-t))\n",
    "E_loc_gtowf = dlqmc.utils.batch_eval_tuple(partial(local_energy, wf=lambda x: gtowf(x),geom=h2p),tqdm(samples.view([-1,n_electrons,3]).split(1000)))[0]"
   ]
  },
  {
   "cell_type": "code",
   "execution_count": null,
   "metadata": {},
   "outputs": [],
   "source": [
    "plt.figure()\n",
    "\n",
    "mean=E_loc_gtowf.detach().clamp(-2, 0.5).mean().item()\n",
    "c1=\"grey\"\n",
    "\n",
    "h = plt.hist(E_loc_gtowf.detach().clamp(-2, 0.5).cpu().numpy(), bins=100,alpha = 0.8,color=c1,density=True)\n",
    "plt.annotate(\"mean = \"+str(np.round(mean,4)),(-0.5,5),color=c1)\n",
    "plt.annotate(\"var     = \"+str(np.round(np.var(E_loc_gtowf.cpu().detach().numpy()),4)),(-0.5,4.1),color=c1)\n",
    "\n",
    "\n",
    "mean=E_loc.detach().clamp(-2, 0.5).mean().item()\n",
    "c2=\"red\"\n",
    "h = plt.hist(E_loc.detach().clamp(-2, 0.5).cpu().numpy(), bins=100,alpha = 0.8,color=c2,density=True)\n",
    "plt.annotate(\"mean = \"+str(np.round(mean,4)),(-0.5,np.max(h[0])/2),color=c2)\n",
    "plt.annotate(\"var     = \"+str(np.round(np.var(E_loc.cpu().detach().numpy()),4)),(-0.5,np.max(h[0])/2-np.max(h[0])/15),color=c2)\n",
    "\n",
    "\n",
    "#plt.savefig('lastruneloc.png')\n",
    "plt.show()"
   ]
  },
  {
   "cell_type": "markdown",
   "metadata": {},
   "source": [
    "## $H_2$ singlet"
   ]
  },
  {
   "cell_type": "code",
   "execution_count": null,
   "metadata": {},
   "outputs": [],
   "source": [
    "#D = np.linspace(0.5,2,30)\n",
    "#E = []\n",
    "#for d in D:\n",
    "#    mol = gto.M(\n",
    "#        atom=[\n",
    "#            ['H', (-d_ref_h2p, 0, 0)],\n",
    "#            ['H', (d_ref_h2p, 0, 0)]\n",
    "#        ],\n",
    "#        unit='bohr',\n",
    "#        basis='4-31G',\n",
    "#        charge=0,\n",
    "#        spin=0,\n",
    "#    )\n",
    "#    mf = scf.RHF(mol)\n",
    "#    E.append(mf.kernel())\n",
    "    \n",
    "mol = gto.M(\n",
    "    atom=[\n",
    "        ['H', (-d_ref_h2/2, 0, 0)],\n",
    "        ['H', (d_ref_h2/2, 0, 0)]\n",
    "    ],\n",
    "    unit='bohr',\n",
    "    basis='4-31G',\n",
    "    charge=0,\n",
    "    spin=0,\n",
    ")\n",
    "mf = scf.RHF(mol)\n",
    "mf.kernel()\n",
    "gtowf = TorchGTOSlaterWF(mf)"
   ]
  },
  {
   "cell_type": "code",
   "execution_count": null,
   "metadata": {},
   "outputs": [],
   "source": [
    "#plt.plot(2*D,E)\n",
    "#plt.xlabel(\"distance nuclei in $a_0$\" )\n",
    "#plt.ylabel(\"energy in $E_h$ \")\n",
    "#plt.title(\"Ground state energy of $H_2^+$ with respect to distance of nuclei\")\n",
    "#plt.show()"
   ]
  },
  {
   "cell_type": "code",
   "execution_count": null,
   "metadata": {},
   "outputs": [],
   "source": [
    "n_electrons=2\n",
    "n_up = 1\n",
    "n_down = n_electrons-n_up\n",
    "net = HanNet(h2,n_up,n_down).cuda()"
   ]
  },
  {
   "cell_type": "code",
   "execution_count": null,
   "metadata": {},
   "outputs": [],
   "source": [
    "if False:\n",
    "    sampler = hmc(\n",
    "        net,\n",
    "        torch.randn(1000, n_electrons, 3, device='cuda')/3,\n",
    "        dysteps=3,\n",
    "        stepsize=0.2,\n",
    "        tau = 0.1,\n",
    "        cutoff = 1.0\n",
    "    )\n",
    "    sampler_gtowf = hmc(\n",
    "        gtowf,\n",
    "        torch.randn(1000, n_electrons, 3, device='cuda')/3,\n",
    "        dysteps=3,\n",
    "        stepsize=0.2,\n",
    "        tau = 0.1,\n",
    "        cutoff = 1.0\n",
    "    )\n",
    "else:\n",
    "    sampler = langevin_monte_carlo(\n",
    "        net,\n",
    "        torch.randn(1000, n_electrons, 3, device='cuda')/3,\n",
    "        tau=0.1,\n",
    "    )\n",
    "    sampler_gtowf = langevin_monte_carlo(\n",
    "        gtowf,\n",
    "        torch.randn(1000, n_electrons, 3, device='cuda')/3,\n",
    "        tau=0.1,\n",
    "    )"
   ]
  },
  {
   "cell_type": "code",
   "execution_count": null,
   "metadata": {},
   "outputs": [],
   "source": [
    "molecule = h2\n",
    "fit_wfnet(\n",
    "    net,\n",
    "    partial(loss_local_energy, E_ref=-1.1,p=2),\n",
    "    torch.optim.Adam(net.parameters(), lr=1e-3),\n",
    "    wfnet_fit_driver(\n",
    "            sampler,\n",
    "            samplings=range(1),\n",
    "            n_epochs=1,\n",
    "            n_sampling_steps=75,\n",
    "            batch_size=1_000,\n",
    "            n_discard=50,\n",
    "            range_sampling=partial(trange, desc='sampling steps', leave=False),\n",
    "            range_training=partial(trange, desc='training steps', leave=False),\n",
    "        ),\n",
    "    clip_grad = None,\n",
    "    writer = None,\n",
    "    )\n",
    "\n",
    "fit_wfnet(\n",
    "    net,\n",
    "    partial(loss_local_energy, E_ref=None,p=1),\n",
    "    torch.optim.Adam(net.parameters(), lr=1e-3),\n",
    "    wfnet_fit_driver(\n",
    "            sampler,\n",
    "            samplings=range(1),\n",
    "            n_epochs=1,\n",
    "            n_sampling_steps=75,\n",
    "            batch_size=1_000,\n",
    "            n_discard=50,\n",
    "            range_sampling=partial(trange, desc='sampling steps', leave=False),\n",
    "            range_training=partial(trange, desc='training steps', leave=False),\n",
    "        ),\n",
    "    clip_grad = None,\n",
    "    writer = None,\n",
    "    )\n"
   ]
  },
  {
   "cell_type": "code",
   "execution_count": null,
   "metadata": {},
   "outputs": [],
   "source": [
    "\n",
    "x_line = torch.cat((torch.linspace(-3, 3, 5000)[:, None], torch.zeros((5000, 3*n_electrons-1))), dim=1)\n",
    "x_line[:,3] = 0\n",
    "x_line=x_line.view(-1,n_electrons,3).cuda()\n",
    "#x_line.requires_grad = True\n",
    "dists_elec = pairwise_distance(x_line, x_line)\n",
    "dists_nuc = pairwise_distance(x_line, net.coords[None, ...])\n",
    "dists = torch.cat([dists_elec, dists_nuc], dim=2)\n",
    "dists_basis = net.dist_basis(dists)\n",
    "xs = net.schnet(dists_basis)\n",
    "jastrow = net.orbital(xs).squeeze().sum(dim=-1)\n",
    "\n",
    "normed=True\n",
    "normplot(x_line[:,0 , 0].cpu().detach().numpy(), torch.exp(jastrow).squeeze().cpu().detach().numpy(),label=\"sym\",norm=normed)\n",
    "normplot(x_line[:,0 , 0].cpu().detach().numpy(), net.asymp_nuc(dists_nuc).cpu().detach().numpy(),label=\"asym\",norm=normed)\n",
    "normplot(x_line[:,0 , 0].cpu().detach().numpy(), net(x_line).cpu().detach().numpy(),label=\"WF\",norm=normed,lw=2,color='k')\n",
    "\n",
    "normplot(x_line[:,0 , 0].cpu().detach().numpy(), gtowf(x_line).cpu().detach().numpy(),label=\"HF\",norm=normed)\n",
    "\n",
    "#plt.axhline(0,ls=':',color='k')\n",
    "plt.axvline(h2.coords[0][0],ls=':',color='k')\n",
    "plt.axvline(h2.coords[1][0],ls=':',color='k')\n",
    "plt.ylabel(\"wavefunction in arbitrary units\")\n",
    "plt.xlabel(\"position in $a_0$\")\n",
    "#plt.ylim(-1,2)\n",
    "x_line.requires_grad = False\n",
    "plt.legend()\n",
    "#plt.savefig('lastrunwf.png')\n",
    "plt.show()\n",
    "\n",
    "#plt.savefig('lastrunloss.png')\n"
   ]
  },
  {
   "cell_type": "code",
   "execution_count": null,
   "metadata": {},
   "outputs": [],
   "source": [
    "h2._coords = h2._coords.cuda()\n",
    "h2._charges = h2._charges.cuda()"
   ]
  },
  {
   "cell_type": "code",
   "execution_count": null,
   "metadata": {},
   "outputs": [],
   "source": [
    "plt.plot(\n",
    "    x_line[:, 0, 0].detach().cpu().numpy(),\n",
    "    local_energy(x_line,lambda x: net(x), h2)[0].cpu().detach().numpy()#*net(x_line).cpu().detach().numpy()**2\n",
    ")\n",
    "plt.ylim((-10, 10));"
   ]
  },
  {
   "cell_type": "code",
   "execution_count": null,
   "metadata": {},
   "outputs": [],
   "source": [
    "t=time.time()\n",
    "samples = samples_from(sampler,range(1000))[0].flatten(end_dim=1)\n",
    "print(\"it took: \"+str(time.time()-t))"
   ]
  },
  {
   "cell_type": "code",
   "execution_count": null,
   "metadata": {},
   "outputs": [],
   "source": [
    "plt.hist2d(\n",
    "    samples[:,0, 0].cpu().detach().numpy(),\n",
    "    samples[:,0, 1].cpu().detach().numpy(),\n",
    "    bins=100,\n",
    "    range=[[-3, 3], [-3, 3]],\n",
    ")                                   \n",
    "plt.gca().set_aspect(1)"
   ]
  },
  {
   "cell_type": "code",
   "execution_count": null,
   "metadata": {},
   "outputs": [],
   "source": [
    "E_loc = dlqmc.utils.batch_eval_tuple(partial(local_energy, wf=lambda x: net(x),geom=h2),tqdm(samples.view([-1,n_electrons,3]).split(1000)))[0]"
   ]
  },
  {
   "cell_type": "code",
   "execution_count": null,
   "metadata": {},
   "outputs": [],
   "source": [
    "t=time.time()\n",
    "samples = samples_from(sampler_gtowf,range(1000))[0].flatten(end_dim=1)\n",
    "print(\"it took: \"+str(time.time()-t))\n",
    "E_loc_gtowf = dlqmc.utils.batch_eval_tuple(partial(local_energy, wf=lambda x: gtowf(x),geom=h2),tqdm(samples.view([-1,n_electrons,3]).split(1000)))[0]"
   ]
  },
  {
   "cell_type": "code",
   "execution_count": null,
   "metadata": {},
   "outputs": [],
   "source": [
    "plt.figure()\n",
    "\n",
    "mean=E_loc_gtowf.detach().clamp(-2, 0.5).mean().item()\n",
    "c1=\"grey\"\n",
    "\n",
    "h = plt.hist(E_loc_gtowf.detach().clamp(-2, 0.5).cpu().numpy(), bins=100,alpha = 0.8,color=c1,density=True)\n",
    "plt.annotate(\"mean = \"+str(np.round(mean,4)),(-0.5,5),color=c1)\n",
    "plt.annotate(\"var     = \"+str(np.round(np.var(E_loc_gtowf.cpu().detach().numpy()),4)),(-0.5,4.1),color=c1)\n",
    "\n",
    "\n",
    "mean=E_loc.detach().clamp(-2, 0.5).mean().item()\n",
    "c2=\"red\"\n",
    "h = plt.hist(E_loc.detach().clamp(-2, 0.5).cpu().numpy(), bins=100,alpha = 0.8,color=c2,density=True)\n",
    "plt.annotate(\"mean = \"+str(np.round(mean,4)),(-0.5,np.max(h[0])/2),color=c2)\n",
    "plt.annotate(\"var     = \"+str(np.round(np.var(E_loc.cpu().detach().numpy()),4)),(-0.5,np.max(h[0])/2-np.max(h[0])/15),color=c2)\n",
    "\n",
    "\n",
    "#plt.savefig('lastruneloc.png')\n",
    "plt.show()"
   ]
  },
  {
   "cell_type": "markdown",
   "metadata": {},
   "source": [
    "## $H_2$ triplet"
   ]
  },
  {
   "cell_type": "code",
   "execution_count": null,
   "metadata": {},
   "outputs": [],
   "source": [
    "mol = gto.M(\n",
    "    atom=[\n",
    "        ['H', (-d_ref_h2/2, 0, 0)],\n",
    "        ['H', (d_ref_h2/2, 0, 0)]\n",
    "    ],\n",
    "    unit='bohr',\n",
    "    basis='4-31G',\n",
    "    charge=0,\n",
    "    spin=2,\n",
    ")\n",
    "mf = scf.RHF(mol)\n",
    "mf.kernel()\n",
    "gtowf = TorchGTOSlaterWF(mf)"
   ]
  },
  {
   "cell_type": "code",
   "execution_count": null,
   "metadata": {},
   "outputs": [],
   "source": [
    "n_electrons=2\n",
    "n_up = 2\n",
    "n_down = n_electrons-n_up\n",
    "net = HanNet(h2,n_up,n_down).cuda()"
   ]
  },
  {
   "cell_type": "code",
   "execution_count": null,
   "metadata": {},
   "outputs": [],
   "source": [
    "if False:\n",
    "    sampler = hmc(\n",
    "        net,\n",
    "        torch.randn(1000, n_electrons, 3, device='cuda')/3,\n",
    "        dysteps=3,\n",
    "        stepsize=0.2,\n",
    "        tau = 0.1,\n",
    "        cutoff = 1.0\n",
    "    )\n",
    "    sampler_gtowf = hmc(\n",
    "        gtowf,\n",
    "        torch.randn(1000, n_electrons, 3, device='cuda')/3,\n",
    "        dysteps=3,\n",
    "        stepsize=0.2,\n",
    "        tau = 0.1,\n",
    "        cutoff = 1.0\n",
    "    )\n",
    "else:\n",
    "    sampler = langevin_monte_carlo(\n",
    "        net,\n",
    "        torch.randn(1000, n_electrons, 3, device='cuda')/3,\n",
    "        tau=0.1,\n",
    "    )\n",
    "    sampler_gtowf = langevin_monte_carlo(\n",
    "        gtowf,\n",
    "        torch.randn(1000, n_electrons, 3, device='cuda')/3,\n",
    "        tau=0.1,\n",
    "    )"
   ]
  },
  {
   "cell_type": "code",
   "execution_count": null,
   "metadata": {},
   "outputs": [],
   "source": [
    "molecule = h2\n",
    "fit_wfnet(\n",
    "    net,\n",
    "    partial(loss_local_energy, E_ref=-1.1,p=2),\n",
    "    torch.optim.Adam(net.parameters(), lr=1e-3),\n",
    "    wfnet_fit_driver(\n",
    "            sampler,\n",
    "            samplings=range(1),\n",
    "            n_epochs=1,\n",
    "            n_sampling_steps=150,\n",
    "            batch_size=1_000,\n",
    "            n_discard=50,\n",
    "            range_sampling=partial(trange, desc='sampling steps', leave=False),\n",
    "            range_training=partial(trange, desc='training steps', leave=False),\n",
    "        ),\n",
    "    clip_grad = None,\n",
    "    writer = None,\n",
    "    )\n",
    "\n",
    "fit_wfnet(\n",
    "    net,\n",
    "    partial(loss_local_energy, E_ref=None,p=1),\n",
    "    torch.optim.Adam(net.parameters(), lr=1e-3),\n",
    "    wfnet_fit_driver(\n",
    "            sampler,\n",
    "            samplings=range(3),\n",
    "            n_epochs=1,\n",
    "            n_sampling_steps=550,\n",
    "            batch_size=1_000,\n",
    "            n_discard=50,\n",
    "            range_sampling=partial(trange, desc='sampling steps', leave=False),\n",
    "            range_training=partial(trange, desc='training steps', leave=False),\n",
    "        ),\n",
    "    clip_grad = None,\n",
    "    writer = None,\n",
    "    )\n"
   ]
  },
  {
   "cell_type": "code",
   "execution_count": null,
   "metadata": {},
   "outputs": [],
   "source": [
    "x_line = torch.cat((torch.linspace(-3, 3, 5000)[:, None], torch.zeros((5000, 3*n_electrons-1))), dim=1)\n",
    "x_line[:,3] = 0\n",
    "x_line=x_line.view(-1,n_electrons,3).cuda()\n",
    "#x_line.requires_grad = True\n",
    "dists_elec = pairwise_distance(x_line, x_line)\n",
    "dists_nuc = pairwise_distance(x_line, net.coords[None, ...])\n",
    "dists = torch.cat([dists_elec, dists_nuc], dim=2)\n",
    "dists_basis = net.dist_basis(dists)\n",
    "xs = net.schnet(dists_basis)\n",
    "jastrow = net.orbital(xs).squeeze().sum(dim=-1)\n",
    "\n",
    "normed=True\n",
    "normplot(x_line[:,0 , 0].cpu().detach().numpy(), torch.exp(jastrow).squeeze().cpu().detach().numpy(),label=\"sym\",norm=normed)\n",
    "normplot(x_line[:,0 , 0].cpu().detach().numpy(), net.asymp_nuc(dists_nuc).cpu().detach().numpy(),label=\"asym\",norm=normed)\n",
    "normplot(x_line[:,0 , 0].cpu().detach().numpy(), net.anti_up(rs[:,:], dists_elec[:, :, :, None]).squeeze(dim=-1).cpu().detach().numpy(),label=\"asym\",norm=normed)\n",
    "normplot(x_line[:,0 , 0].cpu().detach().numpy(), net(x_line).cpu().detach().numpy(),label=\"WF\",norm=normed,lw=2,color='k')\n",
    "normplot(x_line[:,0 , 0].cpu().detach().numpy(),- gtowf(x_line).cpu().detach().numpy(),label=\"HF\",norm=normed)\n",
    "\n",
    "#plt.axhline(0,ls=':',color='k')\n",
    "plt.axvline(h2.coords[0][0],ls=':',color='k')\n",
    "plt.axvline(h2.coords[1][0],ls=':',color='k')\n",
    "plt.ylabel(\"wavefunction in arbitrary units\")\n",
    "plt.xlabel(\"position in $a_0$\")\n",
    "#plt.ylim(-1,2)\n",
    "x_line.requires_grad = False\n",
    "plt.legend()\n",
    "#plt.savefig('lastrunwf.png')\n",
    "plt.show()\n",
    "\n",
    "#plt.savefig('lastrunloss.png')\n"
   ]
  },
  {
   "cell_type": "code",
   "execution_count": null,
   "metadata": {},
   "outputs": [],
   "source": [
    "plt.plot(\n",
    "    x_line[:, 0, 0].detach().cpu().numpy(),\n",
    "    local_energy(x_line,lambda x: net(x), h2)[0].cpu().detach().numpy()#*net(x_line).cpu().detach().numpy()**2\n",
    ")\n",
    "plt.ylim((-10, 10));"
   ]
  },
  {
   "cell_type": "code",
   "execution_count": null,
   "metadata": {},
   "outputs": [],
   "source": [
    "h2._coords = h2._coords.cuda()\n",
    "h2._charges = h2._charges.cuda()"
   ]
  },
  {
   "cell_type": "code",
   "execution_count": null,
   "metadata": {},
   "outputs": [],
   "source": [
    "t=time.time()\n",
    "samples = samples_from(sampler,range(1000))[0].flatten(end_dim=1)\n",
    "print(\"it took: \"+str(time.time()-t))"
   ]
  },
  {
   "cell_type": "code",
   "execution_count": null,
   "metadata": {},
   "outputs": [],
   "source": [
    "plt.hist2d(\n",
    "    samples[:,0, 0].cpu().detach().numpy(),\n",
    "    samples[:,0, 1].cpu().detach().numpy(),\n",
    "    bins=100,\n",
    "    range=[[-3, 3], [-3, 3]],\n",
    ")                                   \n",
    "plt.gca().set_aspect(1)"
   ]
  },
  {
   "cell_type": "code",
   "execution_count": null,
   "metadata": {},
   "outputs": [],
   "source": [
    "E_loc = dlqmc.utils.batch_eval_tuple(partial(local_energy, wf=lambda x: net(x),geom=h2),tqdm(samples.view([-1,n_electrons,3]).split(1000)))[0]"
   ]
  },
  {
   "cell_type": "code",
   "execution_count": null,
   "metadata": {},
   "outputs": [],
   "source": [
    "t=time.time()\n",
    "samples = samples_from(sampler_gtowf,range(1000))[0].flatten(end_dim=1)\n",
    "print(\"it took: \"+str(time.time()-t))\n",
    "E_loc_gtowf = dlqmc.utils.batch_eval_tuple(partial(local_energy, wf=lambda x: gtowf(x),geom=h2),tqdm(samples.view([-1,n_electrons,3]).split(1000)))[0]"
   ]
  },
  {
   "cell_type": "code",
   "execution_count": null,
   "metadata": {},
   "outputs": [],
   "source": [
    "plt.figure()\n",
    "\n",
    "mean=E_loc_gtowf.detach().clamp(-2, 0.5).mean().item()\n",
    "c1=\"grey\"\n",
    "\n",
    "h = plt.hist(E_loc_gtowf.detach().clamp(-2, 0.5).cpu().numpy(), bins=100,alpha = 0.8,color=c1,density=True)\n",
    "plt.annotate(\"mean = \"+str(np.round(mean,4)),(-0.5,5),color=c1)\n",
    "plt.annotate(\"var     = \"+str(np.round(np.var(E_loc_gtowf.cpu().detach().numpy()),4)),(-0.5,4.1),color=c1)\n",
    "\n",
    "\n",
    "mean=E_loc.detach().clamp(-2, 0.5).mean().item()\n",
    "c2=\"red\"\n",
    "h = plt.hist(E_loc.detach().clamp(-2, 0.5).cpu().numpy(), bins=100,alpha = 0.8,color=c2,density=True)\n",
    "plt.annotate(\"mean = \"+str(np.round(mean,4)),(-0.5,np.max(h[0])/2),color=c2)\n",
    "plt.annotate(\"var     = \"+str(np.round(np.var(E_loc.cpu().detach().numpy()),4)),(-0.5,np.max(h[0])/2-np.max(h[0])/15),color=c2)\n",
    "\n",
    "\n",
    "#plt.savefig('lastruneloc.png')\n",
    "plt.show()"
   ]
  },
  {
   "cell_type": "code",
   "execution_count": null,
   "metadata": {},
   "outputs": [],
   "source": []
  }
 ],
 "metadata": {
  "kernelspec": {
   "display_name": "dl-qmc",
   "language": "python",
   "name": "dl-qmc"
  },
  "language_info": {
   "codemirror_mode": {
    "name": "ipython",
    "version": 3
   },
   "file_extension": ".py",
   "mimetype": "text/x-python",
   "name": "python",
   "nbconvert_exporter": "python",
   "pygments_lexer": "ipython3",
   "version": "3.7.2"
  },
  "varInspector": {
   "cols": {
    "lenName": 16,
    "lenType": 16,
    "lenVar": 40
   },
   "kernels_config": {
    "python": {
     "delete_cmd_postfix": "",
     "delete_cmd_prefix": "del ",
     "library": "var_list.py",
     "varRefreshCmd": "print(var_dic_list())"
    },
    "r": {
     "delete_cmd_postfix": ") ",
     "delete_cmd_prefix": "rm(",
     "library": "var_list.r",
     "varRefreshCmd": "cat(var_dic_list()) "
    }
   },
   "types_to_exclude": [
    "module",
    "function",
    "builtin_function_or_method",
    "instance",
    "_Feature"
   ],
   "window_display": false
  }
 },
 "nbformat": 4,
 "nbformat_minor": 2
}
