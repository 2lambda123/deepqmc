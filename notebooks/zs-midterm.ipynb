{
 "cells": [
  {
   "cell_type": "code",
   "execution_count": null,
   "metadata": {},
   "outputs": [],
   "source": [
    "%load_ext autoreload\n",
    "%autoreload 1\n",
    "%aimport dlqmc.nn, dlqmc.sampling, dlqmc.utils\n",
    "%config InlineBackend.figure_format = 'svg' \n",
    "%config InlineBackend.print_figure_kwargs = \\\n",
    "    {'bbox_inches': 'tight', 'dpi': 300}"
   ]
  },
  {
   "cell_type": "code",
   "execution_count": null,
   "metadata": {},
   "outputs": [],
   "source": [
    "import ipywidgets\n",
    "\n",
    "import numpy as np\n",
    "from scipy import special\n",
    "import scipy.stats as sps\n",
    "import matplotlib.pyplot as plt\n",
    "import torch\n",
    "from torch.utils.data import DataLoader, RandomSampler\n",
    "from torch.distributions import Normal\n",
    "from pyscf import gto, scf, dft\n",
    "import pyscf\n",
    "from pyscf.data.nist import BOHR\n",
    "import time\n",
    "from functools import partial\n",
    "from tqdm.auto import tqdm, trange\n",
    "\n",
    "from dlqmc.gto import *\n",
    "from dlqmc.nn import *\n",
    "from dlqmc.sampling import langevin_monte_carlo, hmc ,samples_from, metropolis\n",
    "from dlqmc.fit import loss_local_energy\n",
    "from dlqmc.utils import (\n",
    "    plot_func, get_flat_mesh, assign_where, plot_func_xy,\n",
    "    plot_func_x, integrate_on_mesh, assign_where\n",
    ")\n",
    "from dlqmc.physics import (\n",
    "    local_energy, grad, quantum_force,nuclear_potential,\n",
    "    nuclear_energy, laplacian, electronic_potential\n",
    ")\n",
    "from dlqmc.geom import *\n",
    "from dlqmc.analysis import autocorr_coeff, blocking\n",
    "from dlqmc.nn import ssp"
   ]
  },
  {
   "cell_type": "markdown",
   "metadata": {},
   "source": [
    "### Activation function"
   ]
  },
  {
   "cell_type": "code",
   "execution_count": null,
   "metadata": {},
   "outputs": [],
   "source": [
    "x=np.linspace(-5,5,100)\n",
    "def relu(x):\n",
    "    return x*[x>0]\n",
    "plt.figure(figsize=(5,3))\n",
    "plt.plot(x,relu(x).flatten(),color='grey',ls=':',label='relu')\n",
    "#plt.plot(x,ssp(torch.from_numpy(x)).numpy()+np.log(2),color='k',label='shifted softplus')\n",
    "plt.plot(x,soft(x),color='k',label='shifted softplus')\n",
    "plt.legend(loc='upper left')\n",
    "plt.xticks([])\n",
    "plt.yticks([])\n",
    "plt.xlabel(\"in\")\n",
    "plt.ylabel(\"out\")\n",
    "plt.show()"
   ]
  },
  {
   "cell_type": "code",
   "execution_count": null,
   "metadata": {},
   "outputs": [],
   "source": [
    "def soft(x):\n",
    "    return np.log(1+np.exp(x))"
   ]
  },
  {
   "cell_type": "markdown",
   "metadata": {},
   "source": [
    "## $H_2^+$"
   ]
  },
  {
   "cell_type": "code",
   "execution_count": null,
   "metadata": {},
   "outputs": [],
   "source": [
    "d_ref_h2p=1.9972 \n",
    "h2p = Geometry([[-d_ref_h2p/2, 0., 0.], [d_ref_h2p/2, 0., 0.]], [1., 1.])\n",
    "print(h2p)"
   ]
  },
  {
   "cell_type": "code",
   "execution_count": null,
   "metadata": {},
   "outputs": [],
   "source": [
    "D = np.linspace(0.5,2,30)\n",
    "E = []\n",
    "for d in D:\n",
    "    mol = gto.M(\n",
    "        atom=[\n",
    "            ['H', (-d, 0, 0)],\n",
    "            ['H', (d, 0, 0)]\n",
    "        ],\n",
    "        unit='bohr',\n",
    "        basis='4-31G',\n",
    "        charge=1,\n",
    "        spin=1,\n",
    "    )\n",
    "    mf = scf.RHF(mol)\n",
    "    E.append(mf.kernel())\n",
    "    \n",
    "mol = gto.M(\n",
    "        atom=[\n",
    "            ['H', (-d_ref_h2p/2, 0, 0)],\n",
    "            ['H', (d_ref_h2p/2, 0, 0)]\n",
    "        ],\n",
    "        unit='bohr',\n",
    "        basis=\"cc-pV5Z\",#'4-31G',\n",
    "        charge=1,\n",
    "        spin=1,\n",
    "    )\n",
    "mf = scf.RHF(mol)\n",
    "print(\"E_min = \"+str(mf.kernel()))\n",
    "gtowf = PyscfGTOSlaterWF(mf)"
   ]
  },
  {
   "cell_type": "code",
   "execution_count": null,
   "metadata": {},
   "outputs": [],
   "source": [
    "plt.plot(2*D,E)\n",
    "plt.xlabel(\"distance nuclei in $a_0$\" )\n",
    "plt.ylabel(\"energy in $E_h$ \")\n",
    "plt.title(\"Ground state energy of $H_2^+$ with respect to distance of nuclei\")\n",
    "plt.show()"
   ]
  },
  {
   "cell_type": "code",
   "execution_count": null,
   "metadata": {},
   "outputs": [],
   "source": [
    "n_electrons=1\n",
    "molecule = h2p\n",
    "\n",
    "net = WFNet(molecule,n_electrons,ion_pot=0.7).cuda()\n",
    "\n",
    "\n",
    "L = []\n",
    "V = []\n",
    "\n",
    "x_line = torch.cat((torch.linspace(-3, 3, 500)[:, None], torch.zeros((500, 3*n_electrons-1))), dim=1)\n",
    "x_line=x_line.view(-1,n_electrons,3).cuda()\n",
    "#mesh = get_3d_cube_mesh([(-6, 6), (-4, 4), (-4, 4)], [600, 400, 400])\n",
    "\n",
    "opt = torch.optim.Adam(net.parameters(), lr=1e-2)\n",
    "t_start=time.time()\n",
    "scheduler = torch.optim.lr_scheduler.StepLR(opt, step_size=1, gamma=0.9995)\n",
    "\n",
    "steps = 500 #5_000\n",
    "batchsize = 2_000\n",
    "n_resamplings = 5\n",
    "n_walker = 1_000\n",
    "\n",
    "sampler = langevin_monte_carlo(\n",
    "    net,\n",
    "    torch.randn(n_walker, n_electrons, 3, device='cuda'),\n",
    "    tau=0.1,\n",
    ")\n",
    "\n",
    "\n",
    "#temporary\n",
    "molecule._coords=molecule._coords.cuda()\n",
    "molecule._charges=molecule._charges.cuda()\n",
    "\n",
    "for i_step in range(steps):\n",
    "        \n",
    "    if i_step%(steps//4) == 0 or i_step==steps:\n",
    "        with torch.no_grad():\n",
    "            Psi2 = net(x_line)**2\n",
    "            plt.plot(x_line[:,0 , 0].cpu().detach().numpy(), Psi2.cpu().detach().numpy(),label=i_step)\n",
    "            #plt.show()\n",
    "    \n",
    "    scheduler.step()\n",
    "    if i_step%(steps//n_resamplings)==0:\n",
    "        print(\"resample                                                                        \",end=\"\\r\")\n",
    "        rs,rs_psis  = samples_from(sampler,range(int(batchsize*steps/(n_resamplings*n_walker))))[0:-1]\n",
    "        rs = rs.flatten(end_dim=1).cuda()\n",
    "        rs_psis = rs_psis.flatten(end_dim=1).cuda()\n",
    "        idx = torch.randperm(len(rs))\n",
    "        rs = rs[idx]\n",
    "        rs_psis = rs_psis[idx]\n",
    "        \n",
    "    r=rs[i_step%(steps//n_resamplings)*batchsize:(i_step%(steps//n_resamplings)+1)*batchsize]\n",
    "    \n",
    "    #insert some kinde of permutation to avoid training on some dependent samples in a batch\n",
    "        \n",
    "    E_loc,psi = local_energy(r,net,molecule,create_graph=True)\n",
    "\n",
    "    wheigts=psi**2/rs_psis[i_step%(steps//n_resamplings)*batchsize:(i_step%(steps//n_resamplings)+1)*batchsize]**2\n",
    "    \n",
    "    if i_step<steps//10:\n",
    "        loss = loss_local_energy(E_loc,wheigts,-1)\n",
    "    else:\n",
    "        loss = loss_local_energy(E_loc,wheigts,None)\n",
    "            \n",
    "    print(\"Progress {:2.0%}\".format(i_step /steps)+\"   ->\"+\"I\"*(int(i_step/steps*100)//10)+\"i\"*(int(i_step/steps*100)%10)+\"  \"+\"current loss = \"+str(np.round(loss.item(),4))+\"        \", end=\"\\r\")\n",
    "\n",
    "\n",
    "    loss.backward()\n",
    "    L.append(loss.cpu().detach().numpy())\n",
    "    V.append(((E_loc**2-E_loc.mean()**2).mean()).cpu().detach().numpy())\n",
    "    \n",
    "    #torch.nn.utils.clip_grad_norm_(net.parameters(),1000)\n",
    "    \n",
    "    opt.step()\n",
    "    opt.zero_grad()\n",
    "    \n",
    "plt.legend()\n",
    "print(\"it took =\"+str(np.round(time.time()-t_start,5))+\"                    \")\n",
    "    \n"
   ]
  },
  {
   "cell_type": "code",
   "execution_count": null,
   "metadata": {},
   "outputs": [],
   "source": [
    "def normplot(x,y,norm,*args,**kwargs):\n",
    "    if norm:\n",
    "        plt.plot(x,y/np.max(np.abs(y)),*args,**kwargs)\n",
    "    else:\n",
    "        plt.plot(x,y,*args,**kwargs)\n",
    "\n",
    "x_line = torch.cat((torch.linspace(-2, 2, 5000)[:, None], torch.zeros((5000, 3*n_electrons-1))), dim=1)\n",
    "x_line=x_line.view(-1,n_electrons,3).cuda()\n",
    "x_line.requires_grad = True\n",
    "net.cuda()\n",
    "f_line = net._featurize(x_line)\n",
    "normed=True\n",
    "normplot(x_line[:,0 , 0].cpu().detach().numpy(), torch.exp(net.deep_lin(f_line[0])).squeeze().cpu().detach().numpy(),label=\"sym\",norm=normed)\n",
    "normplot(x_line[:,0 , 0].cpu().detach().numpy(), net.nuc_asymp(f_line[1][0]).cpu().detach().numpy(),label=\"asym\",norm=normed)\n",
    "N = net.nuc_asymp(f_line[1][0]).cpu().detach().numpy()\n",
    "normplot(x_line[:,0 , 0].cpu().detach().numpy(), net(x_line).cpu().detach().numpy(),label=\"WF\",norm=normed,lw=2,color='k')\n",
    "normplot(x_line[:,0 , 0].cpu().detach().numpy(),gtowf(x_line.detach().cpu()).numpy(),label=\"HFGTOWF\",norm=normed)\n",
    "\n",
    "plt.axhline(0,ls=':',color='k')\n",
    "plt.axvline(0,ls=':',color='k')\n",
    "plt.ylabel(\"wavefunction in arbitrary units\")\n",
    "plt.xlabel(\"position in $a_0$\")\n",
    "#plt.ylim(-1,2)\n",
    "x_line.requires_grad = False\n",
    "plt.legend()\n",
    "#plt.savefig('lastrunwf.png')\n",
    "plt.show()\n",
    "plt.subplot2grid((2,1),(0,0))\n",
    "plt.plot(L[:steps//10])\n",
    "plt.yscale('log')\n",
    "plt.subplot2grid((2,1),(1,0))\n",
    "plt.plot(L[steps//10:])\n",
    "plt.yscale('log')\n",
    "#plt.savefig('lastrunloss.png')\n"
   ]
  },
  {
   "cell_type": "code",
   "execution_count": null,
   "metadata": {},
   "outputs": [],
   "source": [
    "plt.plot(\n",
    "    x_line[:, 0, 0].detach().cpu().numpy(),\n",
    "    local_energy(x_line,lambda x: net(x), molecule)[0].cpu().detach().numpy()#*net(x_line).cpu().detach().numpy()**2\n",
    ")\n",
    "plt.ylim((-10, 10));"
   ]
  },
  {
   "cell_type": "code",
   "execution_count": null,
   "metadata": {},
   "outputs": [],
   "source": [
    "if True:\n",
    "    sampler = hmc(\n",
    "        net,\n",
    "        torch.randn(1000, n_electrons, 3, device='cuda'),\n",
    "        dysteps=3,\n",
    "        stepsize=0.2,\n",
    "        tau = 0.1,\n",
    "        cutoff = 1.0\n",
    "    )\n",
    "else:\n",
    "    sampler = langevin_monte_carlo(\n",
    "        net,\n",
    "        torch.randn(1000, n_electrons, 3, device='cuda'),\n",
    "        tau=0.1,\n",
    "    )\n",
    "t=time.time()\n",
    "samples = samples_from(sampler,range(1000))[0].flatten(end_dim=1)\n",
    "print(\"it took: \"+str(time.time()-t))"
   ]
  },
  {
   "cell_type": "code",
   "execution_count": null,
   "metadata": {},
   "outputs": [],
   "source": [
    "plt.hist2d(\n",
    "    samples[:,0, 0].cpu().detach().numpy(),\n",
    "    samples[:,0, 1].cpu().detach().numpy(),\n",
    "    bins=100,\n",
    "    range=[[-3, 3], [-3, 3]],\n",
    ")                                   \n",
    "plt.gca().set_aspect(1)"
   ]
  },
  {
   "cell_type": "code",
   "execution_count": null,
   "metadata": {},
   "outputs": [],
   "source": [
    "net = net.cpu()\n",
    "samples = samples.cpu()"
   ]
  },
  {
   "cell_type": "code",
   "execution_count": null,
   "metadata": {},
   "outputs": [],
   "source": [
    "E_loc = local_energy(samples.view([-1,n_electrons,3]), lambda x: net(x),net.geom)[0]"
   ]
  },
  {
   "cell_type": "code",
   "execution_count": null,
   "metadata": {},
   "outputs": [],
   "source": [
    "mean=E_loc.mean().item()\n",
    "\n",
    "h = plt.hist(E_loc.detach().clamp(-1.5, 1).cpu().numpy(), bins=100,alpha = 0.5,color='b')\n",
    "#plt.annotate(\"mean = \"+str(np.round(mean,4)),(0,np.max(h[0])/2),color='b')\n",
    "#plt.annotate(\"var     = \"+str(np.round(np.var(E_loc.detach().numpy()),4)),(0,np.max(h[0])/2-np.max(h[0])/15),color='b')\n",
    "\n",
    "#plt.savefig('lastruneloc.png')\n",
    "plt.show()"
   ]
  },
  {
   "cell_type": "markdown",
   "metadata": {},
   "source": [
    "## $H_2$ singlet"
   ]
  },
  {
   "cell_type": "code",
   "execution_count": null,
   "metadata": {},
   "outputs": [],
   "source": [
    "D = np.linspace(0.2,2.2,30)\n",
    "E = []\n",
    "for d in D:\n",
    "    mol = gto.M(\n",
    "        atom=[\n",
    "            ['H', (-d, 0, 0)],\n",
    "            ['H', (d, 0, 0)]\n",
    "        ],\n",
    "        unit='bohr',\n",
    "        basis='4-31G',\n",
    "        charge=0,\n",
    "        spin=0,\n",
    "    )\n",
    "    mf = scf.RHF(mol)\n",
    "    E.append(mf.kernel())"
   ]
  },
  {
   "cell_type": "code",
   "execution_count": null,
   "metadata": {},
   "outputs": [],
   "source": [
    "plt.plot(2*D,E)\n",
    "plt.xlabel(\"distance nuclei in $a_0$\" )\n",
    "plt.ylabel(\"energy in $E_h$ \")\n",
    "plt.title(\"Ground state energy of $H_2$ with respect to distance of nuclei\")\n",
    "plt.show()"
   ]
  },
  {
   "cell_type": "code",
   "execution_count": null,
   "metadata": {},
   "outputs": [],
   "source": [
    "d_ref_h2=1.4\n",
    "h2 = Geometry([[-d_ref_h2/2, 0., 0.], [d_ref_h2/2, 0., 0.]], [1., 1.])\n",
    "print(h2)"
   ]
  },
  {
   "cell_type": "code",
   "execution_count": null,
   "metadata": {},
   "outputs": [],
   "source": [
    "n_electrons=2\n",
    "molecule = h2\n",
    "\n",
    "net = WFNet(molecule,n_electrons,ion_pot=0.7).cuda()\n",
    "\n",
    "\n",
    "L = []\n",
    "V = []\n",
    "\n",
    "x_line = torch.cat((torch.linspace(-3, 3, 500)[:, None], torch.zeros((500, 3*n_electrons-1))), dim=1)\n",
    "x_line=x_line.view(-1,n_electrons,3).cuda()\n",
    "#mesh = get_3d_cube_mesh([(-6, 6), (-4, 4), (-4, 4)], [600, 400, 400])\n",
    "\n",
    "opt = torch.optim.Adam(net.parameters(), lr=1e-2)\n",
    "t_start=time.time()\n",
    "scheduler = torch.optim.lr_scheduler.StepLR(opt, step_size=1, gamma=0.9995)\n",
    "\n",
    "steps = 5_000\n",
    "batchsize = 2_000\n",
    "n_resamplings = 25\n",
    "n_walker = 1_000\n",
    "\n",
    "sampler = langevin_monte_carlo(\n",
    "    net,\n",
    "    torch.randn(n_walker, n_electrons, 3, device='cuda'),\n",
    "    tau=0.1,\n",
    ")\n",
    "\n",
    "\n",
    "#temporary\n",
    "molecule._coords=molecule._coords.cuda()\n",
    "molecule._charges=molecule._charges.cuda()\n",
    "\n",
    "for i_step in range(steps):\n",
    "        \n",
    "    if i_step%(steps//4) == 0 or i_step==steps:\n",
    "        with torch.no_grad():\n",
    "            Psi2 = net(x_line)**2\n",
    "            plt.plot(x_line[:,0 , 0].cpu().detach().numpy(), Psi2.cpu().detach().numpy(),label=i_step)\n",
    "            #plt.show()\n",
    "    \n",
    "    scheduler.step()\n",
    "    if i_step%(steps//n_resamplings)==0:\n",
    "        print(\"resample                                                                        \",end=\"\\r\")\n",
    "        rs,rs_psis  = samples_from(sampler,range(int(batchsize*steps/(n_resamplings*n_walker))))[0:-1]\n",
    "        rs = rs.flatten(end_dim=1).cuda()\n",
    "        rs_psis = rs_psis.flatten(end_dim=1).cuda()\n",
    "        idx = torch.randperm(len(rs))\n",
    "        rs = rs[idx]\n",
    "        rs_psis = rs_psis[idx]\n",
    "        \n",
    "    r=rs[i_step%(steps//n_resamplings)*batchsize:(i_step%(steps//n_resamplings)+1)*batchsize]\n",
    "    \n",
    "    #insert some kinde of permutation to avoid training on some dependent samples in a batch\n",
    "        \n",
    "    E_loc,psi = local_energy(r,net,molecule,create_graph=True)\n",
    "\n",
    "    wheigts=psi**2/rs_psis[i_step%(steps//n_resamplings)*batchsize:(i_step%(steps//n_resamplings)+1)*batchsize]**2\n",
    "    \n",
    "    if i_step<steps//10:\n",
    "        loss = loss_local_energy(E_loc,wheigts,-1)\n",
    "    else:\n",
    "        loss = loss_local_energy(E_loc,wheigts,None)\n",
    "            \n",
    "    print(\"Progress {:2.0%}\".format(i_step /steps)+\"   ->\"+\"I\"*(int(i_step/steps*100)//10)+\"i\"*(int(i_step/steps*100)%10)+\"  \"+\"current loss = \"+str(np.round(loss.item(),4))+\"        \", end=\"\\r\")\n",
    "\n",
    "\n",
    "    loss.backward()\n",
    "    L.append(loss.cpu().detach().numpy())\n",
    "    V.append(((E_loc**2-E_loc.mean()**2).mean()).cpu().detach().numpy())\n",
    "    \n",
    "    #torch.nn.utils.clip_grad_norm_(net.parameters(),1000)\n",
    "    \n",
    "    opt.step()\n",
    "    opt.zero_grad()\n",
    "    \n",
    "plt.legend()\n",
    "print(\"it took =\"+str(np.round(time.time()-t_start,5))+\"                    \")\n",
    "    \n"
   ]
  },
  {
   "cell_type": "code",
   "execution_count": null,
   "metadata": {},
   "outputs": [],
   "source": [
    "def normplot(x,y,norm,*args,**kwargs):\n",
    "    if norm:\n",
    "        plt.plot(x,y/np.max(np.abs(y)),*args,**kwargs)\n",
    "    else:\n",
    "        plt.plot(x,y,*args,**kwargs)\n",
    "\n",
    "x_line = torch.cat((torch.linspace(-2, 2, 15000)[:, None], torch.zeros((15000, 3*n_electrons-1))), dim=1)\n",
    "x_line=x_line.view(-1,n_electrons,3).cuda()\n",
    "x_line.requires_grad = True\n",
    "net.cuda()\n",
    "f_line = net._featurize(x_line)\n",
    "normed=True\n",
    "normplot(x_line[:,0 , 0].cpu().detach().numpy(), torch.exp(net.deep_lin(f_line[0])).squeeze().cpu().detach().numpy(),label=\"sym\",norm=normed)\n",
    "normplot(x_line[:,0 , 0].cpu().detach().numpy(), net.nuc_asymp(f_line[1][0]).cpu().detach().numpy(),label=\"asym\",norm=normed)\n",
    "N = net.nuc_asymp(f_line[1][0]).cpu().detach().numpy()\n",
    "normplot(x_line[:,0 , 0].cpu().detach().numpy(), net(x_line).cpu().detach().numpy(),label=\"WF\",norm=normed,lw=2,color='k')\n",
    "\n",
    "plt.axhline(0,ls=':',color='k')\n",
    "plt.axvline(0,ls=':',color='k')\n",
    "\n",
    "#plt.ylim(-1,2)\n",
    "x_line.requires_grad = False\n",
    "plt.legend()\n",
    "#plt.savefig('lastrunwf.png')\n",
    "plt.show()\n",
    "plt.subplot2grid((2,1),(0,0))\n",
    "plt.plot(L[:steps//10])\n",
    "plt.yscale('log')\n",
    "plt.subplot2grid((2,1),(1,0))\n",
    "plt.plot(L[steps//10:])\n",
    "plt.yscale('log')\n",
    "#plt.savefig('lastrunloss.png')\n"
   ]
  },
  {
   "cell_type": "code",
   "execution_count": null,
   "metadata": {},
   "outputs": [],
   "source": [
    "plt.plot(\n",
    "    x_line[:, 0, 0].detach().cpu().numpy(),\n",
    "    local_energy(x_line,lambda x: net(x), molecule)[0].cpu().detach().numpy()#*net(x_line).cpu().detach().numpy()**2\n",
    ")\n",
    "plt.ylim((-10, 10));"
   ]
  },
  {
   "cell_type": "code",
   "execution_count": null,
   "metadata": {},
   "outputs": [],
   "source": [
    "if True:\n",
    "    sampler = hmc(\n",
    "        net,\n",
    "        torch.randn(1000, n_electrons, 3, device='cuda'),\n",
    "        dysteps=3,\n",
    "        stepsize=0.2,\n",
    "        tau = 0.1,\n",
    "        cutoff = 1.0\n",
    "    )\n",
    "else:\n",
    "    sampler = langevin_monte_carlo(\n",
    "        net,\n",
    "        torch.randn(1000, n_electrons, 3, device='cuda'),\n",
    "        tau=0.1,\n",
    "    )\n",
    "t=time.time()\n",
    "samples = samples_from(sampler,range(1000))[0].flatten(end_dim=1)\n",
    "print(\"it took: \"+str(time.time()-t))"
   ]
  },
  {
   "cell_type": "code",
   "execution_count": null,
   "metadata": {},
   "outputs": [],
   "source": [
    "plt.hist2d(\n",
    "    samples[:,0, 0].cpu().detach().numpy(),\n",
    "    samples[:,0, 1].cpu().detach().numpy(),\n",
    "    bins=100,\n",
    "    range=[[-3, 3], [-3, 3]],\n",
    ")                                   \n",
    "plt.gca().set_aspect(1)"
   ]
  },
  {
   "cell_type": "code",
   "execution_count": null,
   "metadata": {},
   "outputs": [],
   "source": [
    "net = net.cpu()\n",
    "samples = samples.cpu()"
   ]
  },
  {
   "cell_type": "code",
   "execution_count": null,
   "metadata": {},
   "outputs": [],
   "source": [
    "E_loc = local_energy(samples.view([-1,n_electrons,3]), lambda x: net(x),net.geom)[0]"
   ]
  },
  {
   "cell_type": "code",
   "execution_count": null,
   "metadata": {},
   "outputs": [],
   "source": [
    "mean=E_loc.mean().item()\n",
    "\n",
    "h = plt.hist(E_loc.detach().clamp(-1.5, 1).cpu().numpy(), bins=100,alpha = 0.5,color='b')\n",
    "plt.annotate(\"mean = \"+str(np.round(mean,4)),(0,np.max(h[0])/2),color='b')\n",
    "plt.annotate(\"var     = \"+str(np.round(np.var(E_loc.detach().numpy()),4)),(0,np.max(h[0])/2-np.max(h[0])/15),color='b')\n",
    "\n",
    "#plt.savefig('lastruneloc.png')\n",
    "plt.show()\n",
    "print(mean)"
   ]
  },
  {
   "cell_type": "markdown",
   "metadata": {},
   "source": [
    "## $H_2$ triplet"
   ]
  },
  {
   "cell_type": "code",
   "execution_count": null,
   "metadata": {},
   "outputs": [],
   "source": []
  }
 ],
 "metadata": {
  "kernelspec": {
   "display_name": "dl-qmc",
   "language": "python",
   "name": "dl-qmc"
  },
  "language_info": {
   "codemirror_mode": {
    "name": "ipython",
    "version": 3
   },
   "file_extension": ".py",
   "mimetype": "text/x-python",
   "name": "python",
   "nbconvert_exporter": "python",
   "pygments_lexer": "ipython3",
   "version": "3.7.2"
  },
  "varInspector": {
   "cols": {
    "lenName": 16,
    "lenType": 16,
    "lenVar": 40
   },
   "kernels_config": {
    "python": {
     "delete_cmd_postfix": "",
     "delete_cmd_prefix": "del ",
     "library": "var_list.py",
     "varRefreshCmd": "print(var_dic_list())"
    },
    "r": {
     "delete_cmd_postfix": ") ",
     "delete_cmd_prefix": "rm(",
     "library": "var_list.r",
     "varRefreshCmd": "cat(var_dic_list()) "
    }
   },
   "types_to_exclude": [
    "module",
    "function",
    "builtin_function_or_method",
    "instance",
    "_Feature"
   ],
   "window_display": false
  }
 },
 "nbformat": 4,
 "nbformat_minor": 2
}
