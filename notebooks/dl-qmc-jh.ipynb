{
 "cells": [
  {
   "cell_type": "markdown",
   "metadata": {},
   "source": [
    "# DL-QMC jh"
   ]
  },
  {
   "cell_type": "code",
   "execution_count": null,
   "metadata": {},
   "outputs": [],
   "source": [
    "%load_ext autoreload\n",
    "%autoreload 2"
   ]
  },
  {
   "cell_type": "code",
   "execution_count": null,
   "metadata": {},
   "outputs": [],
   "source": [
    "from functools import partial\n",
    "\n",
    "import matplotlib as mpl\n",
    "import matplotlib.pyplot as plt\n",
    "import numpy as np\n",
    "import torch\n",
    "from pyscf import gto, scf\n",
    "from tensorboardX import SummaryWriter\n",
    "from torch import nn\n",
    "from tqdm.auto import tqdm, trange\n",
    "\n",
    "from dlqmc.analysis import autocorr_coeff, blocking, pair_correlations_from_samples\n",
    "from dlqmc.fit import (\n",
    "    fit_wfnet,\n",
    "    fit_wfnet_multi,\n",
    "    loss_local_energy,\n",
    "    wfnet_fit_driver,\n",
    "    wfnet_fit_driver_simple,\n",
    ")\n",
    "from dlqmc.geom import geomdb\n",
    "from dlqmc.nn import (\n",
    "    SSP,\n",
    "    DistanceBasis,\n",
    "    GTOBasis,\n",
    "    HanNet,\n",
    "    HFNet,\n",
    "    WFNet,\n",
    "    get_custom_dnn,\n",
    "    get_log_dnn,\n",
    "    pairwise_distance,\n",
    "    pairwise_self_distance,\n",
    ")\n",
    "from dlqmc.physics import local_energy\n",
    "from dlqmc.pyscfext import electron_density_of\n",
    "from dlqmc.sampling import langevin_monte_carlo, samples_from\n",
    "from dlqmc.stats import GaussianKDEstimator\n",
    "from dlqmc.utils import (\n",
    "    DebugContainer,\n",
    "    batch_eval_tuple,\n",
    "    number_of_parameters,\n",
    "    plot_func,\n",
    "    plot_func_x,\n",
    "    plot_func_xy,\n",
    "    shuffle_tensor,\n",
    ")"
   ]
  },
  {
   "cell_type": "code",
   "execution_count": null,
   "metadata": {},
   "outputs": [],
   "source": [
    "# needs to be in a separate cell, see https://github.com/ipython/ipython/issues/11098\n",
    "mpl.rcParams['figure.dpi'] = 100"
   ]
  },
  {
   "cell_type": "markdown",
   "metadata": {},
   "source": [
    "## H2+"
   ]
  },
  {
   "cell_type": "markdown",
   "metadata": {},
   "source": [
    "### GTO WF"
   ]
  },
  {
   "cell_type": "code",
   "execution_count": null,
   "metadata": {},
   "outputs": [],
   "source": [
    "mol = gto.M(\n",
    "    atom=geomdb['H2+'].as_pyscf(),\n",
    "    unit='bohr',\n",
    "    basis='cc-pv5z',\n",
    "    cart=True,\n",
    "    charge=1,\n",
    "    spin=1,\n",
    ")\n",
    "mf = scf.RHF(mol)\n",
    "scf_energy_big = mf.kernel()\n",
    "gtowf_big = HFNet.from_pyscf(mf).cuda()"
   ]
  },
  {
   "cell_type": "code",
   "execution_count": null,
   "metadata": {},
   "outputs": [],
   "source": [
    "mol = gto.M(\n",
    "    atom=geomdb['H2+'].as_pyscf(),\n",
    "    unit='bohr',\n",
    "    basis='6-311g',\n",
    "    cart=True,\n",
    "    charge=1,\n",
    "    spin=1,\n",
    ")\n",
    "mf = scf.RHF(mol)\n",
    "scf_energy = mf.kernel()\n",
    "gtowf = HFNet.from_pyscf(mf).cuda()"
   ]
  },
  {
   "cell_type": "code",
   "execution_count": null,
   "metadata": {},
   "outputs": [],
   "source": [
    "plot_func_x(gtowf.basis, [-7, 7], device='cuda')\n",
    "plt.ylim(-1, 1)"
   ]
  },
  {
   "cell_type": "code",
   "execution_count": null,
   "metadata": {},
   "outputs": [],
   "source": [
    "plot_func_x(gtowf_big.basis, [-7, 7], device='cuda')\n",
    "plt.ylim(-1, 1)"
   ]
  },
  {
   "cell_type": "code",
   "execution_count": null,
   "metadata": {},
   "outputs": [],
   "source": [
    "plot_func_x(gtowf_big.orbitals, [-7, 7], device='cuda')\n",
    "plot_func_x(gtowf.orbitals, [-7, 7], device='cuda')"
   ]
  },
  {
   "cell_type": "code",
   "execution_count": null,
   "metadata": {},
   "outputs": [],
   "source": [
    "plot_func_x(lambda x: local_energy(x[:, None], gtowf_big)[0], [-3, 3], device='cuda')\n",
    "plot_func_x(lambda x: local_energy(x[:, None], gtowf)[0], [-3, 3], device='cuda')\n",
    "plt.ylim((-10, 0))"
   ]
  },
  {
   "cell_type": "code",
   "execution_count": null,
   "metadata": {},
   "outputs": [],
   "source": [
    "n_walker = 1_000\n",
    "sampler = langevin_monte_carlo(gtowf, torch.randn(n_walker, 1, 3).cuda(), tau=0.1)\n",
    "rs, psis, info = samples_from(sampler, trange(500))\n",
    "E_loc = local_energy(rs.flatten(end_dim=1), gtowf)[0].view(n_walker, -1)\n",
    "info.acceptance.mean()"
   ]
  },
  {
   "cell_type": "code",
   "execution_count": null,
   "metadata": {},
   "outputs": [],
   "source": [
    "plt.plot(*rs[0][:50, 0, :2].cpu().numpy().T)\n",
    "plt.gca().set_aspect(1)"
   ]
  },
  {
   "cell_type": "code",
   "execution_count": null,
   "metadata": {},
   "outputs": [],
   "source": [
    "plt.plot(E_loc.mean(dim=0).cpu().numpy())\n",
    "plt.ylim(-0.7, -0.5)"
   ]
  },
  {
   "cell_type": "code",
   "execution_count": null,
   "metadata": {},
   "outputs": [],
   "source": [
    "plt.hist2d(\n",
    "    *rs[:, 50:].flatten(end_dim=1)[:, 0, :2].cpu().numpy().T,\n",
    "    bins=100,\n",
    "    range=[[-3, 3], [-3, 3]],\n",
    ")\n",
    "plt.gca().set_aspect(1)"
   ]
  },
  {
   "cell_type": "code",
   "execution_count": null,
   "metadata": {},
   "outputs": [],
   "source": [
    "_ = plt.hist(E_loc[:, 50:].flatten().clamp(-1.25, 0).cpu().numpy(), bins=100)"
   ]
  },
  {
   "cell_type": "code",
   "execution_count": null,
   "metadata": {},
   "outputs": [],
   "source": [
    "E_loc[:, 50:].std()"
   ]
  },
  {
   "cell_type": "code",
   "execution_count": null,
   "metadata": {},
   "outputs": [],
   "source": [
    "scf_energy, E_loc[:, 50:].mean().item(), (\n",
    "    E_loc[:, 50:].mean(dim=1).std() / np.sqrt(E_loc.shape[0])\n",
    ").item()"
   ]
  },
  {
   "cell_type": "code",
   "execution_count": null,
   "metadata": {},
   "outputs": [],
   "source": [
    "plt.plot(blocking(E_loc[:, 50:]).cpu().numpy())"
   ]
  },
  {
   "cell_type": "code",
   "execution_count": null,
   "metadata": {},
   "outputs": [],
   "source": [
    "plt.plot(autocorr_coeff(range(50), E_loc[:, 50:]).cpu().numpy())\n",
    "plt.axhline()"
   ]
  },
  {
   "cell_type": "code",
   "execution_count": null,
   "metadata": {},
   "outputs": [],
   "source": [
    "n_walker = 1_000\n",
    "sampler = langevin_monte_carlo(gtowf_big, torch.randn(n_walker, 1, 3).cuda(), tau=0.1)\n",
    "rs, psis, info = samples_from(sampler, trange(500))\n",
    "E_loc = batch_eval_tuple(\n",
    "    local_energy, tqdm(rs.flatten(end_dim=1).split(50_000)), gtowf_big\n",
    ")[0].view(n_walker, -1)\n",
    "info.acceptance.mean()"
   ]
  },
  {
   "cell_type": "code",
   "execution_count": null,
   "metadata": {},
   "outputs": [],
   "source": [
    "plt.plot(E_loc.mean(dim=0).cpu().numpy())\n",
    "plt.ylim(-0.7, -0.5)"
   ]
  },
  {
   "cell_type": "code",
   "execution_count": null,
   "metadata": {},
   "outputs": [],
   "source": [
    "plt.hist2d(\n",
    "    *rs[:, 50:].flatten(end_dim=1)[:, 0, :2].cpu().numpy().T,\n",
    "    bins=100,\n",
    "    range=[[-3, 3], [-3, 3]],\n",
    ")\n",
    "plt.gca().set_aspect(1)"
   ]
  },
  {
   "cell_type": "code",
   "execution_count": null,
   "metadata": {},
   "outputs": [],
   "source": [
    "_ = plt.hist(E_loc[:, 50:].flatten().clamp(-1.25, 0).cpu().numpy(), bins=100)"
   ]
  },
  {
   "cell_type": "code",
   "execution_count": null,
   "metadata": {},
   "outputs": [],
   "source": [
    "E_loc[:, 50:].std()"
   ]
  },
  {
   "cell_type": "code",
   "execution_count": null,
   "metadata": {},
   "outputs": [],
   "source": [
    "(\n",
    "    scf_energy_big,\n",
    "    E_loc[:, 50:].mean().item(),\n",
    "    (E_loc[:, 50:].mean(dim=1).std() / np.sqrt(E_loc.shape[0])).item(),\n",
    ")"
   ]
  },
  {
   "cell_type": "code",
   "execution_count": null,
   "metadata": {},
   "outputs": [],
   "source": [
    "plt.plot(blocking(E_loc[:, 50:]).numpy())"
   ]
  },
  {
   "cell_type": "code",
   "execution_count": null,
   "metadata": {},
   "outputs": [],
   "source": [
    "plt.plot(autocorr_coeff(range(50), E_loc[:, 50:]).numpy())\n",
    "plt.axhline()"
   ]
  },
  {
   "cell_type": "markdown",
   "metadata": {},
   "source": [
    "### Net WF"
   ]
  },
  {
   "cell_type": "code",
   "execution_count": null,
   "metadata": {},
   "outputs": [],
   "source": [
    "_ = plot_func(DistanceBasis(32), [1, 11])"
   ]
  },
  {
   "cell_type": "code",
   "execution_count": null,
   "metadata": {},
   "outputs": [],
   "source": [
    "wfnet = WFNet(geomdb['H2+'], 1, n_orbital_layers=4, ion_pot=0.7).cuda()\n",
    "sampler = langevin_monte_carlo(wfnet, torch.randn(1_000, 1, 3, device='cuda'), tau=0.1)\n",
    "for _ in range(50):\n",
    "    next(sampler)\n",
    "wfnet"
   ]
  },
  {
   "cell_type": "code",
   "execution_count": null,
   "metadata": {},
   "outputs": [],
   "source": [
    "fit_wfnet_multi(\n",
    "    wfnet,\n",
    "    (partial(loss_local_energy, E_ref=-0.5), loss_local_energy),\n",
    "    (torch.optim.Adam(wfnet.parameters(), lr=3e-3) for _ in range(2)),\n",
    "    partial(wfnet_fit_driver_simple, sampler, n_sampling_steps=1),\n",
    "    (\n",
    "        {'samplings': trange(200, desc='pretrain')},\n",
    "        {'samplings': trange(2000, desc='variance')},\n",
    "    ),\n",
    "    (SummaryWriter(f'runs/H+/wfnet/05/{s}') for s in ['pretrain', 'variance']),\n",
    ")"
   ]
  },
  {
   "cell_type": "code",
   "execution_count": null,
   "metadata": {},
   "outputs": [],
   "source": [
    "plot_func_x(lambda x: local_energy(x[:, None], wfnet)[0], [-15, 15], device='cuda')\n",
    "plt.ylim((-1, 0))"
   ]
  },
  {
   "cell_type": "code",
   "execution_count": null,
   "metadata": {},
   "outputs": [],
   "source": [
    "plot_func_xy(\n",
    "    lambda x: wfnet.debug('jastrow', x[:, None]), [[-10, 10], [-10, 10]], device='cuda'\n",
    ")"
   ]
  },
  {
   "cell_type": "code",
   "execution_count": null,
   "metadata": {},
   "outputs": [],
   "source": [
    "n_walker = 1_000\n",
    "sampler = langevin_monte_carlo(\n",
    "    wfnet, torch.randn(n_walker, 1, 3, device='cuda'), tau=0.1\n",
    ")\n",
    "rs, _, info = samples_from(sampler, trange(500))\n",
    "E_loc = local_energy(rs.flatten(end_dim=1), wfnet)[0].view(n_walker, -1)\n",
    "info.acceptance.mean()"
   ]
  },
  {
   "cell_type": "code",
   "execution_count": null,
   "metadata": {},
   "outputs": [],
   "source": [
    "plt.plot(E_loc.mean(dim=0).cpu().numpy())\n",
    "plt.ylim(-0.7, -0.5)"
   ]
  },
  {
   "cell_type": "code",
   "execution_count": null,
   "metadata": {},
   "outputs": [],
   "source": [
    "plt.hist(E_loc[:, 50:].flatten().clamp(-1.25, 0).cpu().numpy(), bins=100)\n",
    "plt.xlim(-1.25, 0)"
   ]
  },
  {
   "cell_type": "code",
   "execution_count": null,
   "metadata": {},
   "outputs": [],
   "source": [
    "E_loc[:, 50:].std()"
   ]
  },
  {
   "cell_type": "code",
   "execution_count": null,
   "metadata": {},
   "outputs": [],
   "source": [
    "scf_energy_big, E_loc[:, 50:].mean().item(), (\n",
    "    E_loc[:, 50:].mean(dim=1).std() / np.sqrt(E_loc.shape[0])\n",
    ").item()"
   ]
  },
  {
   "cell_type": "code",
   "execution_count": null,
   "metadata": {},
   "outputs": [],
   "source": [
    "bounds = [-2, 2]\n",
    "plot_func_x(\n",
    "    lambda x: torch.log(gtowf_big.float()(x[:, None])),\n",
    "    bounds,\n",
    "    device='cuda',\n",
    "    label='~exact WF',\n",
    ")\n",
    "plot_func_x(\n",
    "    lambda x: torch.log(gtowf(x[:, None])),\n",
    "    bounds,\n",
    "    device='cuda',\n",
    "    label='small-basis WF',\n",
    ")\n",
    "plot_func_x(\n",
    "    lambda x: torch.log(wfnet(x[:, None])) - 0.2, bounds, device='cuda', label='DL WF'\n",
    ")\n",
    "plot_func_x(\n",
    "    lambda x: torch.log(wfnet.debug('asymp_nuc', x[:, None])) - 0.89,\n",
    "    bounds,\n",
    "    device='cuda',\n",
    "    label='asymptotics',\n",
    ")\n",
    "plot_func_x(\n",
    "    lambda x: wfnet.debug('jastrow', x[:, None]) - 0.2,\n",
    "    bounds,\n",
    "    device='cuda',\n",
    "    label='NN',\n",
    ")\n",
    "plt.legend(loc='lower center', bbox_to_anchor=(0.5, -0.35), ncol=2)\n",
    "plt.ylim(-1.5, None)"
   ]
  },
  {
   "cell_type": "markdown",
   "metadata": {},
   "source": [
    "## H2"
   ]
  },
  {
   "cell_type": "markdown",
   "metadata": {},
   "source": [
    "### GTO WF"
   ]
  },
  {
   "cell_type": "code",
   "execution_count": null,
   "metadata": {},
   "outputs": [],
   "source": [
    "mol = gto.M(\n",
    "    atom=geomdb['H2'].as_pyscf(),\n",
    "    unit='bohr',\n",
    "    basis='cc-pv5z',\n",
    "    charge=0,\n",
    "    spin=0,\n",
    "    cart=True,\n",
    ")\n",
    "mf_big = scf.RHF(mol)\n",
    "mf_big.kernel()"
   ]
  },
  {
   "cell_type": "code",
   "execution_count": null,
   "metadata": {},
   "outputs": [],
   "source": [
    "mol = gto.M(\n",
    "    atom=geomdb['H2'].as_pyscf(),\n",
    "    unit='bohr',\n",
    "    basis='6-311g',\n",
    "    charge=0,\n",
    "    spin=0,\n",
    "    cart=True,\n",
    ")\n",
    "mf = scf.RHF(mol)\n",
    "scf_energy = mf.kernel()\n",
    "gtowf = HFNet.from_pyscf(mf).cuda()"
   ]
  },
  {
   "cell_type": "code",
   "execution_count": null,
   "metadata": {},
   "outputs": [],
   "source": [
    "n_walker = 1_000\n",
    "sampler = langevin_monte_carlo(gtowf, torch.randn(n_walker, 2, 3).cuda(), tau=0.1)\n",
    "rs, _, info = samples_from(sampler, trange(500))\n",
    "E_loc = local_energy(rs.flatten(end_dim=1), gtowf)[0].view(n_walker, -1)\n",
    "info.acceptance.mean()"
   ]
  },
  {
   "cell_type": "code",
   "execution_count": null,
   "metadata": {},
   "outputs": [],
   "source": [
    "plt.plot(E_loc.mean(dim=0).cpu().numpy())\n",
    "plt.ylim(-1.2, -1)"
   ]
  },
  {
   "cell_type": "code",
   "execution_count": null,
   "metadata": {},
   "outputs": [],
   "source": [
    "_ = plt.hist(E_loc[:, 100:].flatten().clamp(-2, 0).cpu().numpy(), bins=100)"
   ]
  },
  {
   "cell_type": "code",
   "execution_count": null,
   "metadata": {},
   "outputs": [],
   "source": [
    "E_loc[:, 100:].std()"
   ]
  },
  {
   "cell_type": "code",
   "execution_count": null,
   "metadata": {},
   "outputs": [],
   "source": [
    "scf_energy, E_loc[:, 100:].mean().item(), (\n",
    "    E_loc[:, 100:].mean(dim=1).std() / np.sqrt(E_loc.shape[0])\n",
    ").item()"
   ]
  },
  {
   "cell_type": "code",
   "execution_count": null,
   "metadata": {},
   "outputs": [],
   "source": [
    "plt.plot(blocking(E_loc[:, 100:]).numpy())"
   ]
  },
  {
   "cell_type": "code",
   "execution_count": null,
   "metadata": {},
   "outputs": [],
   "source": [
    "plt.plot(autocorr_coeff(range(50), E_loc[:, 100:]).numpy())\n",
    "plt.axhline()"
   ]
  },
  {
   "cell_type": "markdown",
   "metadata": {},
   "source": [
    "### Net WF"
   ]
  },
  {
   "cell_type": "code",
   "execution_count": null,
   "metadata": {},
   "outputs": [],
   "source": [
    "wfnet0 = WFNet(geomdb['H2'], 2, n_orbital_layers=4, ion_pot=0.7).cuda()\n",
    "n_walker = 10_000\n",
    "sampler0 = langevin_monte_carlo(\n",
    "    wfnet0, torch.randn(n_walker, 2, 3, device='cuda'), tau=0.1\n",
    ")\n",
    "rs0, _, info = samples_from(sampler0, trange(500))\n",
    "E_loc0 = batch_eval_tuple(\n",
    "    local_energy, tqdm(rs0.flatten(end_dim=1).split(50_000)), wfnet0\n",
    ")[0].view(n_walker, -1)\n",
    "info.acceptance.mean()"
   ]
  },
  {
   "cell_type": "code",
   "execution_count": null,
   "metadata": {},
   "outputs": [],
   "source": [
    "wfnet = WFNet(geomdb['H2'], 2, n_orbital_layers=4, ion_pot=0.7).cuda()\n",
    "sampler = langevin_monte_carlo(wfnet, torch.randn(1_000, 2, 3, device='cuda'), tau=0.1)\n",
    "for _ in range(50):\n",
    "    next(sampler)\n",
    "wfnet"
   ]
  },
  {
   "cell_type": "code",
   "execution_count": null,
   "metadata": {},
   "outputs": [],
   "source": [
    "fit_wfnet_multi(\n",
    "    wfnet,\n",
    "    (partial(loss_local_energy, E_ref=-1.1), loss_local_energy),\n",
    "    (torch.optim.Adam(wfnet.parameters(), lr=3e-3) for _ in range(2)),\n",
    "    partial(wfnet_fit_driver_simple, sampler, n_sampling_steps=1),\n",
    "    (\n",
    "        {'samplings': trange(200, desc='pretrain')},\n",
    "        {'samplings': trange(2000, desc='variance')},\n",
    "    ),\n",
    "    (SummaryWriter(f'runs/H2/wfnet/16/{s}') for s in ['pretrain', 'variance']),\n",
    ")"
   ]
  },
  {
   "cell_type": "code",
   "execution_count": null,
   "metadata": {},
   "outputs": [],
   "source": [
    "n_walker = 10_000\n",
    "sampler = langevin_monte_carlo(\n",
    "    wfnet, torch.randn(n_walker, 2, 3, device='cuda'), tau=0.1\n",
    ")\n",
    "rs, _, info = samples_from(sampler, trange(500))\n",
    "E_loc = batch_eval_tuple(\n",
    "    local_energy, tqdm(rs.flatten(end_dim=1).split(50_000)), wfnet\n",
    ")[0].view(n_walker, -1)\n",
    "info.acceptance.mean()"
   ]
  },
  {
   "cell_type": "code",
   "execution_count": null,
   "metadata": {},
   "outputs": [],
   "source": [
    "plt.plot(E_loc0.mean(dim=0).cpu().numpy())\n",
    "plt.plot(E_loc.mean(dim=0).cpu().numpy())\n",
    "plt.ylim(-1.2, -1)"
   ]
  },
  {
   "cell_type": "code",
   "execution_count": null,
   "metadata": {},
   "outputs": [],
   "source": [
    "plt.hist(E_loc0[:, 50:].flatten().clamp(-2, 0).cpu().numpy(), bins=100)\n",
    "plt.hist(E_loc[:, 50:].flatten().clamp(-2, 0).cpu().numpy(), bins=100)\n",
    "plt.xlim(-2, 0)"
   ]
  },
  {
   "cell_type": "code",
   "execution_count": null,
   "metadata": {},
   "outputs": [],
   "source": [
    "E_loc[:, 50:].std()"
   ]
  },
  {
   "cell_type": "code",
   "execution_count": null,
   "metadata": {},
   "outputs": [],
   "source": [
    "E_loc[:, 50:].mean().item(), (\n",
    "    E_loc[:, 50:].mean(dim=1).std() / np.sqrt(E_loc.shape[0])\n",
    ").item()"
   ]
  },
  {
   "cell_type": "code",
   "execution_count": null,
   "metadata": {},
   "outputs": [],
   "source": [
    "rs_flat = rs[:, 50:].flatten(end_dim=1)\n",
    "rs_flat0 = rs0[:, 50:].flatten(end_dim=1)"
   ]
  },
  {
   "cell_type": "code",
   "execution_count": null,
   "metadata": {},
   "outputs": [],
   "source": [
    "density = GaussianKDEstimator(rs_flat.flatten(end_dim=1), bw=0.05, weights=2)\n",
    "density0 = GaussianKDEstimator(rs_flat0.flatten(end_dim=1), bw=0.05, weights=2)\n",
    "plot_func_x(density0, [-2, 3], device='cuda')\n",
    "plot_func_x(density, [-2, 3], device='cuda')\n",
    "plot_func_x(lambda x: electron_density_of(mf_big, x), [-2, 3], is_torch=False)"
   ]
  },
  {
   "cell_type": "code",
   "execution_count": null,
   "metadata": {},
   "outputs": [],
   "source": [
    "pair = pair_correlations_from_samples(rs_flat, 1)\n",
    "pair0 = pair_correlations_from_samples(rs_flat0, 1)\n",
    "plot_func(\n",
    "    lambda r: pair0['ud'](r[:, None]) / pair['decorr'](r[:, None]),\n",
    "    (0, 5),\n",
    "    device='cuda',\n",
    ")\n",
    "plot_func(\n",
    "    lambda r: pair['ud'](r[:, None]) / pair['decorr'](r[:, None]), (0, 5), device='cuda'\n",
    ")"
   ]
  },
  {
   "cell_type": "markdown",
   "metadata": {},
   "source": [
    "### HanNet"
   ]
  },
  {
   "cell_type": "code",
   "execution_count": null,
   "metadata": {},
   "outputs": [],
   "source": [
    "wfnet0 = HanNet(\n",
    "    geomdb['H2'],\n",
    "    1,\n",
    "    1,\n",
    "    ion_pot=0.7,\n",
    "    basis_dim=32,\n",
    "    kernel_dim=32,\n",
    "    embedding_dim=32,\n",
    "    latent_dim=1,\n",
    "    n_interactions=2,\n",
    "    n_orbital_layers=2,\n",
    ").cuda()\n",
    "n_walker = 10_000\n",
    "sampler0 = langevin_monte_carlo(\n",
    "    wfnet0, torch.randn(n_walker, 2, 3, device='cuda'), tau=0.1\n",
    ")\n",
    "rs0, _, info = samples_from(sampler0, trange(500, desc='sampling'))\n",
    "E_loc0 = batch_eval_tuple(\n",
    "    local_energy, tqdm(rs0.flatten(end_dim=1).split(10_000), desc='E_loc'), wfnet0\n",
    ")[0].view(n_walker, -1)\n",
    "info.acceptance.mean()"
   ]
  },
  {
   "cell_type": "code",
   "execution_count": null,
   "metadata": {},
   "outputs": [],
   "source": [
    "wfnet = HanNet(\n",
    "    geomdb['H2'],\n",
    "    1,\n",
    "    1,\n",
    "    ion_pot=0.7,\n",
    "    basis_dim=32,\n",
    "    kernel_dim=32,\n",
    "    embedding_dim=32,\n",
    "    latent_dim=1,\n",
    "    n_interactions=2,\n",
    "    n_orbital_layers=2,\n",
    ").cuda()\n",
    "sampler = langevin_monte_carlo(wfnet, torch.randn(1_000, 2, 3, device='cuda'), tau=0.1)\n",
    "for _ in range(50):\n",
    "    next(sampler)\n",
    "wfnet"
   ]
  },
  {
   "cell_type": "code",
   "execution_count": null,
   "metadata": {},
   "outputs": [],
   "source": [
    "fit_wfnet_multi(\n",
    "    wfnet,\n",
    "    (partial(loss_local_energy, E_ref=-1.1), loss_local_energy),\n",
    "    (torch.optim.Adam(wfnet.parameters(), lr=3e-3) for _ in range(2)),\n",
    "    partial(wfnet_fit_driver_simple, sampler, n_sampling_steps=1),\n",
    "    (\n",
    "        {'samplings': trange(200, desc='pretrain')},\n",
    "        {'samplings': trange(2000, desc='variance')},\n",
    "    ),\n",
    "    (SummaryWriter(f'runs/H2/hannet/07/{s}') for s in ['pretrain', 'variance']),\n",
    ")\n"
   ]
  },
  {
   "cell_type": "code",
   "execution_count": null,
   "metadata": {},
   "outputs": [],
   "source": [
    "n_walker = 10_000\n",
    "sampler = langevin_monte_carlo(\n",
    "    wfnet, torch.randn(n_walker, 2, 3, device='cuda'), tau=0.1\n",
    ")\n",
    "rs, _, info = samples_from(sampler, trange(500))\n",
    "E_loc = batch_eval_tuple(\n",
    "    local_energy, tqdm(rs.flatten(end_dim=1).split(50_000)), wfnet\n",
    ")[0].view(n_walker, -1)\n",
    "info.acceptance.mean()"
   ]
  },
  {
   "cell_type": "code",
   "execution_count": null,
   "metadata": {},
   "outputs": [],
   "source": [
    "plt.plot(E_loc0.mean(dim=0).cpu().numpy())\n",
    "plt.plot(E_loc.mean(dim=0).cpu().numpy())\n",
    "plt.ylim(-1.2, -1)"
   ]
  },
  {
   "cell_type": "code",
   "execution_count": null,
   "metadata": {},
   "outputs": [],
   "source": [
    "plt.hist(E_loc0[:, 50:].flatten().clamp(-2, 0).cpu().numpy(), bins=100)\n",
    "plt.hist(E_loc[:, 50:].flatten().clamp(-2, 0).cpu().numpy(), bins=100)\n",
    "plt.xlim(-2, 0)"
   ]
  },
  {
   "cell_type": "code",
   "execution_count": null,
   "metadata": {},
   "outputs": [],
   "source": [
    "E_loc[:, 50:].mean().item(), (\n",
    "    E_loc[:, 50:].mean(dim=1).std() / np.sqrt(E_loc.shape[0])\n",
    ").item()"
   ]
  },
  {
   "cell_type": "code",
   "execution_count": null,
   "metadata": {},
   "outputs": [],
   "source": [
    "rs_flat = rs[:, 50:].flatten(end_dim=1)\n",
    "rs_flat0 = rs0[:, 50:].flatten(end_dim=1)"
   ]
  },
  {
   "cell_type": "code",
   "execution_count": null,
   "metadata": {},
   "outputs": [],
   "source": [
    "density = GaussianKDEstimator(rs_flat.flatten(end_dim=1), bw=0.05, weights=2)\n",
    "density0 = GaussianKDEstimator(rs_flat0.flatten(end_dim=1), bw=0.05, weights=2)\n",
    "plot_func_x(density0, [-2, 3], device='cuda')\n",
    "plot_func_x(density, [-2, 3], device='cuda')\n",
    "plot_func_x(lambda x: electron_density_of(mf_big, x), [-2, 3], is_torch=False)"
   ]
  },
  {
   "cell_type": "code",
   "execution_count": null,
   "metadata": {},
   "outputs": [],
   "source": [
    "pair = pair_correlations_from_samples(rs_flat, 1)\n",
    "pair0 = pair_correlations_from_samples(rs_flat0, 1)\n",
    "plot_func(\n",
    "    lambda r: pair0['ud'](r[:, None]) / pair['decorr'](r[:, None]),\n",
    "    (0, 5),\n",
    "    device='cuda',\n",
    ")\n",
    "plot_func(\n",
    "    lambda r: pair['ud'](r[:, None]) / pair['decorr'](r[:, None]), (0, 5), device='cuda'\n",
    ")"
   ]
  },
  {
   "cell_type": "markdown",
   "metadata": {},
   "source": [
    "## H2 triplet"
   ]
  },
  {
   "cell_type": "markdown",
   "metadata": {},
   "source": [
    "### GTO WF"
   ]
  },
  {
   "cell_type": "code",
   "execution_count": null,
   "metadata": {},
   "outputs": [],
   "source": [
    "mol = gto.M(\n",
    "    atom=geomdb['H2'].as_pyscf(),\n",
    "    unit='bohr',\n",
    "    basis='cc-pv5z',\n",
    "    charge=0,\n",
    "    spin=2,\n",
    "    cart=True,\n",
    ")\n",
    "mf_big = scf.RHF(mol)\n",
    "mf_big.kernel()"
   ]
  },
  {
   "cell_type": "code",
   "execution_count": null,
   "metadata": {},
   "outputs": [],
   "source": [
    "mol = gto.M(\n",
    "    atom=geomdb['H2'].as_pyscf(),\n",
    "    unit='bohr',\n",
    "    basis='6-311g',\n",
    "    charge=0,\n",
    "    spin=2,\n",
    "    cart=True,\n",
    ")\n",
    "mf = scf.RHF(mol)\n",
    "scf_energy = mf.kernel()\n",
    "gtowf = HFNet.from_pyscf(mf).cuda()"
   ]
  },
  {
   "cell_type": "code",
   "execution_count": null,
   "metadata": {},
   "outputs": [],
   "source": [
    "n_walker = 1_000\n",
    "sampler = langevin_monte_carlo(gtowf, torch.randn(n_walker, 2, 3).cuda(), tau=0.1)\n",
    "rs, _, info = samples_from(sampler, trange(500))\n",
    "E_loc = local_energy(rs.flatten(end_dim=1), gtowf)[0].view(n_walker, -1)\n",
    "info.acceptance.mean()"
   ]
  },
  {
   "cell_type": "code",
   "execution_count": null,
   "metadata": {},
   "outputs": [],
   "source": [
    "_ = plt.hist(E_loc[:, 100:].flatten().clamp(-2, 0).cpu().numpy(), bins=100)"
   ]
  },
  {
   "cell_type": "code",
   "execution_count": null,
   "metadata": {},
   "outputs": [],
   "source": [
    "E_loc[:, 100:].std()"
   ]
  },
  {
   "cell_type": "code",
   "execution_count": null,
   "metadata": {},
   "outputs": [],
   "source": [
    "scf_energy, E_loc[:, 100:].mean().item(), (\n",
    "    E_loc[:, 100:].mean(dim=1).std() / np.sqrt(E_loc.shape[0])\n",
    ").item()"
   ]
  },
  {
   "cell_type": "code",
   "execution_count": null,
   "metadata": {},
   "outputs": [],
   "source": [
    "plt.plot(blocking(E_loc[:, 100:]).numpy())"
   ]
  },
  {
   "cell_type": "code",
   "execution_count": null,
   "metadata": {},
   "outputs": [],
   "source": [
    "plt.plot(autocorr_coeff(range(50), E_loc[:, 100:]).numpy())\n",
    "plt.axhline()"
   ]
  },
  {
   "cell_type": "markdown",
   "metadata": {},
   "source": [
    "### HanNet"
   ]
  },
  {
   "cell_type": "code",
   "execution_count": null,
   "metadata": {},
   "outputs": [],
   "source": [
    "wfnet0 = HanNet(\n",
    "    geomdb['H2'],\n",
    "    2,\n",
    "    0,\n",
    "    ion_pot=0.7,\n",
    "    basis_dim=32,\n",
    "    kernel_dim=32,\n",
    "    embedding_dim=32,\n",
    "    latent_dim=1,\n",
    "    n_interactions=2,\n",
    "    n_orbital_layers=2,\n",
    ").cuda()\n",
    "n_walker = 10_000\n",
    "sampler0 = langevin_monte_carlo(\n",
    "    wfnet0, torch.randn(n_walker, 2, 3, device='cuda'), tau=0.1\n",
    ")\n",
    "rs0, _, info = samples_from(sampler0, trange(500, desc='sampling'))\n",
    "E_loc0 = batch_eval_tuple(\n",
    "    local_energy, tqdm(rs0.flatten(end_dim=1).split(10_000), desc='E_loc'), wfnet0\n",
    ")[0].view(n_walker, -1)\n",
    "info.acceptance.mean()"
   ]
  },
  {
   "cell_type": "code",
   "execution_count": null,
   "metadata": {},
   "outputs": [],
   "source": [
    "wfnet = HanNet(\n",
    "    geomdb['H2'],\n",
    "    2,\n",
    "    0,\n",
    "    ion_pot=0.7,\n",
    "    basis_dim=32,\n",
    "    kernel_dim=32,\n",
    "    embedding_dim=32,\n",
    "    latent_dim=1,\n",
    "    n_interactions=2,\n",
    "    n_orbital_layers=2,\n",
    ").cuda()\n",
    "sampler = langevin_monte_carlo(wfnet, torch.randn(1_000, 2, 3, device='cuda'), tau=0.1)\n",
    "for _ in range(50):\n",
    "    next(sampler)\n",
    "wfnet"
   ]
  },
  {
   "cell_type": "code",
   "execution_count": null,
   "metadata": {
    "lines_to_next_cell": 2
   },
   "outputs": [],
   "source": [
    "fit_wfnet_multi(\n",
    "    wfnet,\n",
    "    (partial(loss_local_energy, E_ref=-0.8), loss_local_energy),\n",
    "    (torch.optim.Adam(wfnet.parameters(), lr=3e-3) for _ in range(2)),\n",
    "    partial(wfnet_fit_driver_simple, sampler, n_sampling_steps=5),\n",
    "    (\n",
    "        {'samplings': trange(200, desc='samplings')},\n",
    "        {'samplings': trange(2000, desc='samplings')},\n",
    "    ),\n",
    "    (SummaryWriter(f'runs/H2t/hannet/12/{s}') for s in ['pretrain', 'variance']),\n",
    ")"
   ]
  },
  {
   "cell_type": "code",
   "execution_count": null,
   "metadata": {},
   "outputs": [],
   "source": [
    "n_walker = 10_000\n",
    "sampler = langevin_monte_carlo(\n",
    "    wfnet, torch.randn(n_walker, 2, 3, device='cuda'), tau=0.1\n",
    ")\n",
    "rs, _, info = samples_from(sampler, trange(500))\n",
    "E_loc = batch_eval_tuple(\n",
    "    local_energy, tqdm(rs.flatten(end_dim=1).split(50_000)), wfnet\n",
    ")[0].view(n_walker, -1)\n",
    "info.acceptance.mean()"
   ]
  },
  {
   "cell_type": "code",
   "execution_count": null,
   "metadata": {},
   "outputs": [],
   "source": [
    "plt.plot(E_loc0.mean(dim=0).cpu().numpy())\n",
    "plt.plot(E_loc.mean(dim=0).cpu().numpy())\n",
    "plt.ylim(-0.8, -0.5)"
   ]
  },
  {
   "cell_type": "code",
   "execution_count": null,
   "metadata": {},
   "outputs": [],
   "source": [
    "plt.hist(E_loc0[:, 50:].flatten().clamp(-2, 0).cpu().numpy(), bins=100)\n",
    "plt.hist(E_loc[:, 50:].flatten().clamp(-2, 0).cpu().numpy(), bins=100)\n",
    "plt.xlim(-2, 0)"
   ]
  },
  {
   "cell_type": "code",
   "execution_count": null,
   "metadata": {},
   "outputs": [],
   "source": [
    "E_loc[:, 50:].mean().item(), (\n",
    "    E_loc[:, 50:].mean(dim=1).std() / np.sqrt(E_loc.shape[0])\n",
    ").item()"
   ]
  },
  {
   "cell_type": "code",
   "execution_count": null,
   "metadata": {},
   "outputs": [],
   "source": [
    "rs_flat = rs[:, 50:].flatten(end_dim=1)\n",
    "rs_flat0 = rs0[:, 50:].flatten(end_dim=1)"
   ]
  },
  {
   "cell_type": "code",
   "execution_count": null,
   "metadata": {},
   "outputs": [],
   "source": [
    "density = GaussianKDEstimator(rs_flat.flatten(end_dim=1), bw=0.05, weights=2)\n",
    "density0 = GaussianKDEstimator(rs_flat0.flatten(end_dim=1), bw=0.05, weights=2)\n",
    "plot_func_x(density0, [-2, 3], device='cuda')\n",
    "plot_func_x(density, [-2, 3], device='cuda')\n",
    "plot_func_x(lambda x: electron_density_of(mf_big, x), [-2, 3], is_torch=False)"
   ]
  },
  {
   "cell_type": "code",
   "execution_count": null,
   "metadata": {},
   "outputs": [],
   "source": [
    "samples = (rs_flat[:, 0] - rs_flat[:, 1]).norm(dim=-1)\n",
    "samples0 = (rs_flat0[:, 0] - rs_flat0[:, 1]).norm(dim=-1)\n",
    "radial_pair = GaussianKDEstimator(\n",
    "    samples[:, None],\n",
    "    bw=0.01,\n",
    "    weights=1/samples**2\n",
    ")\n",
    "radial_pair0 = GaussianKDEstimator(\n",
    "    samples0[:, None],\n",
    "    bw=0.01,\n",
    "    weights=1/samples**2\n",
    ")\n",
    "plot_func(lambda r: radial_pair0(r[:, None]), (0, 5), device='cuda');\n",
    "plot_func(lambda r: radial_pair(r[:, None]), (0, 5), device='cuda');"
   ]
  }
 ],
 "metadata": {
  "kernelspec": {
   "display_name": "dl-qmc",
   "language": "python",
   "name": "dl-qmc"
  },
  "language_info": {
   "codemirror_mode": {
    "name": "ipython",
    "version": 3
   },
   "file_extension": ".py",
   "mimetype": "text/x-python",
   "name": "python",
   "nbconvert_exporter": "python",
   "pygments_lexer": "ipython3",
   "version": "3.7.2"
  },
  "toc": {
   "base_numbering": 1,
   "nav_menu": {},
   "number_sections": true,
   "sideBar": false,
   "skip_h1_title": false,
   "title_cell": "Table of Contents",
   "title_sidebar": "Contents",
   "toc_cell": false,
   "toc_position": {
    "height": "308px",
    "left": "943px",
    "top": "98px",
    "width": "222px"
   },
   "toc_section_display": true,
   "toc_window_display": true
  },
  "varInspector": {
   "cols": {
    "lenName": 16,
    "lenType": 16,
    "lenVar": 40
   },
   "kernels_config": {
    "python": {
     "delete_cmd_postfix": "",
     "delete_cmd_prefix": "del ",
     "library": "var_list.py",
     "varRefreshCmd": "print(var_dic_list())"
    },
    "r": {
     "delete_cmd_postfix": ") ",
     "delete_cmd_prefix": "rm(",
     "library": "var_list.r",
     "varRefreshCmd": "cat(var_dic_list()) "
    }
   },
   "position": {
    "height": "687px",
    "left": "593px",
    "right": "20px",
    "top": "120px",
    "width": "587px"
   },
   "types_to_exclude": [
    "module",
    "function",
    "builtin_function_or_method",
    "instance",
    "_Feature"
   ],
   "window_display": false
  }
 },
 "nbformat": 4,
 "nbformat_minor": 2
}
