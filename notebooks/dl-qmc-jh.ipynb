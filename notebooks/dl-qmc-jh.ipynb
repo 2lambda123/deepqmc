{
 "cells": [
  {
   "cell_type": "code",
   "execution_count": null,
   "metadata": {},
   "outputs": [],
   "source": [
    "%load_ext autoreload\n",
    "%autoreload 2\n",
    "%config InlineBackend.figure_format = 'svg' \n",
    "%config InlineBackend.print_figure_kwargs = {'bbox_inches': 'tight', 'dpi': 300}\n",
    "%matplotlib inline"
   ]
  },
  {
   "cell_type": "code",
   "execution_count": null,
   "metadata": {},
   "outputs": [],
   "source": [
    "import time\n",
    "from functools import partial\n",
    "\n",
    "import numpy as np\n",
    "import matplotlib.pyplot as plt\n",
    "from scipy import special\n",
    "import torch\n",
    "from torch import nn\n",
    "import pyscf\n",
    "from pyscf import gto, scf\n",
    "from tqdm.auto import tqdm, trange\n",
    "from tensorboardX import SummaryWriter\n",
    "\n",
    "%aimport dlqmc.nn.base\n",
    "from dlqmc.nn import WFNet, HanNet, DistanceBasis\n",
    "from dlqmc.fit import fit_wfnet_multi, loss_local_energy, wfnet_fit_driver\n",
    "from dlqmc.sampling import samples_from, langevin_monte_carlo\n",
    "from dlqmc.physics import local_energy\n",
    "from dlqmc.gto import TorchGTOSlaterWF, PyscfGTOSlaterWF, electron_density_of\n",
    "from dlqmc.analysis import autocorr_coeff, blocking\n",
    "from dlqmc.geom import Geometry, angstrom, geomdb\n",
    "from dlqmc.utils import plot_func, plot_func_xy, plot_func_x, integrate_on_mesh, batch_eval_tuple\n",
    "from dlqmc.stats import GaussianKDEstimator\n",
    "import dlqmc.torchext as torchext"
   ]
  },
  {
   "cell_type": "markdown",
   "metadata": {},
   "source": [
    "## H2+"
   ]
  },
  {
   "cell_type": "markdown",
   "metadata": {},
   "source": [
    "### GTO WF"
   ]
  },
  {
   "cell_type": "code",
   "execution_count": null,
   "metadata": {},
   "outputs": [],
   "source": [
    "mol = gto.M(\n",
    "    atom=geomdb['H2+'].as_pyscf(),\n",
    "    unit='bohr',\n",
    "    basis='aug-cc-pv5z',\n",
    "    cart=True,\n",
    "    charge=1,\n",
    "    spin=1,\n",
    ")\n",
    "mf = scf.RHF(mol)\n",
    "scf_energy_big = mf.kernel()\n",
    "gtowf_big = TorchGTOSlaterWF(mf)"
   ]
  },
  {
   "cell_type": "code",
   "execution_count": null,
   "metadata": {},
   "outputs": [],
   "source": [
    "mol = gto.M(\n",
    "    atom=geomdb['H2+'].as_pyscf(),\n",
    "    unit='bohr',\n",
    "    basis='6-311g',\n",
    "    cart=True,\n",
    "    charge=1,\n",
    "    spin=1,\n",
    ")\n",
    "mf = scf.RHF(mol)\n",
    "scf_energy = mf.kernel()\n",
    "gtowf = TorchGTOSlaterWF(mf)"
   ]
  },
  {
   "cell_type": "code",
   "execution_count": null,
   "metadata": {},
   "outputs": [],
   "source": [
    "plot_func_x(gtowf.get_aos, [-7, 7]);\n",
    "plt.ylim(-1, 1)"
   ]
  },
  {
   "cell_type": "code",
   "execution_count": null,
   "metadata": {},
   "outputs": [],
   "source": [
    "plot_func_x(gtowf_big.get_aos, [-7, 7]);\n",
    "plt.ylim(-1, 1)"
   ]
  },
  {
   "cell_type": "code",
   "execution_count": null,
   "metadata": {},
   "outputs": [],
   "source": [
    "integrate_on_mesh(lambda x: gtowf(x.cuda()[:, None])**2, [(-6, 6), (-4, 4), (-4, 4)])"
   ]
  },
  {
   "cell_type": "code",
   "execution_count": null,
   "metadata": {},
   "outputs": [],
   "source": [
    "integrate_on_mesh(lambda x: gtowf_big(x.cuda()[:, None])**2, [(-6, 6), (-4, 4), (-4, 4)])"
   ]
  },
  {
   "cell_type": "code",
   "execution_count": null,
   "metadata": {},
   "outputs": [],
   "source": [
    "plot_func_x(lambda x: local_energy(x[:, None], gtowf_big, geomdb['H2+'])[0], [-3, 3], shift=1e-4)\n",
    "plot_func_x(lambda x: local_energy(x[:, None], gtowf, geomdb['H2+'])[0], [-3, 3], shift=1e-10)\n",
    "plt.ylim((-10, 0));"
   ]
  },
  {
   "cell_type": "code",
   "execution_count": null,
   "metadata": {},
   "outputs": [],
   "source": [
    "n_walker = 1_000\n",
    "sampler = langevin_monte_carlo(\n",
    "    gtowf,\n",
    "    torch.randn(n_walker, 1, 3),\n",
    "    tau=0.1,\n",
    ")\n",
    "rs, psis, info = samples_from(sampler, trange(500))\n",
    "E_loc = local_energy(rs.flatten(end_dim=1), gtowf, geomdb['H2+'])[0].view(n_walker, -1)\n",
    "info.acceptance.mean()"
   ]
  },
  {
   "cell_type": "code",
   "execution_count": null,
   "metadata": {},
   "outputs": [],
   "source": [
    "plt.plot(*rs[0][:50, 0, :2].numpy().T)\n",
    "plt.gca().set_aspect(1)"
   ]
  },
  {
   "cell_type": "code",
   "execution_count": null,
   "metadata": {},
   "outputs": [],
   "source": [
    "plt.plot(E_loc.mean(dim=0).numpy())\n",
    "plt.ylim(-0.7, -0.5)"
   ]
  },
  {
   "cell_type": "code",
   "execution_count": null,
   "metadata": {},
   "outputs": [],
   "source": [
    "plt.hist2d(\n",
    "    *rs[:, 50:].flatten(end_dim=1)[:, 0, :2].numpy().T,\n",
    "    bins=100,\n",
    "    range=[[-3, 3], [-3, 3]],\n",
    ")                                   \n",
    "plt.gca().set_aspect(1)"
   ]
  },
  {
   "cell_type": "code",
   "execution_count": null,
   "metadata": {},
   "outputs": [],
   "source": [
    "plt.hist(E_loc[:, 50:].flatten().clamp(-1.25, 0).numpy(), bins=100);"
   ]
  },
  {
   "cell_type": "code",
   "execution_count": null,
   "metadata": {},
   "outputs": [],
   "source": [
    "E_loc[:, 50:].std()"
   ]
  },
  {
   "cell_type": "code",
   "execution_count": null,
   "metadata": {},
   "outputs": [],
   "source": [
    "scf_energy, E_loc[:, 50:].mean().item(), (E_loc[:, 50:].mean(dim=1).std()/np.sqrt(E_loc.shape[0])).item()"
   ]
  },
  {
   "cell_type": "code",
   "execution_count": null,
   "metadata": {},
   "outputs": [],
   "source": [
    "plt.plot(blocking(E_loc[:, 50:]).numpy())"
   ]
  },
  {
   "cell_type": "code",
   "execution_count": null,
   "metadata": {},
   "outputs": [],
   "source": [
    "plt.plot(autocorr_coeff(range(50), E_loc[:, 50:]).numpy())\n",
    "plt.axhline()"
   ]
  },
  {
   "cell_type": "code",
   "execution_count": null,
   "metadata": {},
   "outputs": [],
   "source": [
    "n_walker = 1_000\n",
    "sampler = langevin_monte_carlo(\n",
    "    gtowf_big,\n",
    "    torch.randn(n_walker, 1, 3).double().cuda(),\n",
    "    tau=0.1,\n",
    ")\n",
    "rs, psis, info = samples_from(sampler, trange(500))\n",
    "E_loc = batch_eval_tuple(\n",
    "    local_energy,\n",
    "    tqdm(rs.flatten(end_dim=1).split(50_000)),\n",
    "    gtowf_big,\n",
    "    geomdb['H2+'].as_param_dict().double().cuda(),\n",
    ")[0].view(n_walker, -1)\n",
    "info.acceptance.mean()"
   ]
  },
  {
   "cell_type": "code",
   "execution_count": null,
   "metadata": {},
   "outputs": [],
   "source": [
    "plt.plot(E_loc.mean(dim=0).cpu().numpy())\n",
    "plt.ylim(-0.7, -0.5)"
   ]
  },
  {
   "cell_type": "code",
   "execution_count": null,
   "metadata": {},
   "outputs": [],
   "source": [
    "plt.hist2d(\n",
    "    *rs[:, 50:].flatten(end_dim=1)[:, 0, :2].cpu().numpy().T,\n",
    "    bins=100,\n",
    "    range=[[-3, 3], [-3, 3]],\n",
    ")                                   \n",
    "plt.gca().set_aspect(1)"
   ]
  },
  {
   "cell_type": "code",
   "execution_count": null,
   "metadata": {},
   "outputs": [],
   "source": [
    "plt.hist(E_loc[:, 50:].flatten().clamp(-1.25, 0).cpu().numpy(), bins=100);"
   ]
  },
  {
   "cell_type": "code",
   "execution_count": null,
   "metadata": {},
   "outputs": [],
   "source": [
    "E_loc[:, 50:].std()"
   ]
  },
  {
   "cell_type": "code",
   "execution_count": null,
   "metadata": {},
   "outputs": [],
   "source": [
    "(\n",
    "    scf_energy_big,\n",
    "    E_loc[:, 50:].mean().item(),\n",
    "    (E_loc[:, 50:].mean(dim=1).std()/np.sqrt(E_loc.shape[0])).item()\n",
    ")"
   ]
  },
  {
   "cell_type": "code",
   "execution_count": null,
   "metadata": {},
   "outputs": [],
   "source": [
    "plt.plot(blocking(E_loc[:, 50:]).numpy())"
   ]
  },
  {
   "cell_type": "code",
   "execution_count": null,
   "metadata": {},
   "outputs": [],
   "source": [
    "plt.plot(autocorr_coeff(range(50), E_loc[:, 50:]).numpy())\n",
    "plt.axhline()"
   ]
  },
  {
   "cell_type": "markdown",
   "metadata": {},
   "source": [
    "### Net WF"
   ]
  },
  {
   "cell_type": "code",
   "execution_count": null,
   "metadata": {},
   "outputs": [],
   "source": [
    "plot_func(DistanceBasis(32), [1, 11]);"
   ]
  },
  {
   "cell_type": "code",
   "execution_count": null,
   "metadata": {},
   "outputs": [],
   "source": [
    "wfnet = WFNet(geomdb['H2+'], 1, n_orbital_layers=4, ion_pot=0.7).cuda()\n",
    "sampler = langevin_monte_carlo(\n",
    "    wfnet,\n",
    "    torch.randn(1_000, 1, 3, device='cuda'),\n",
    "    tau=0.1,\n",
    ")\n",
    "wfnet"
   ]
  },
  {
   "cell_type": "code",
   "execution_count": null,
   "metadata": {},
   "outputs": [],
   "source": [
    "fit_wfnet_multi(\n",
    "    wfnet,\n",
    "    (partial(loss_local_energy, E_ref=-0.5), loss_local_energy),\n",
    "    (torch.optim.Adam(wfnet.parameters(), lr=2e-3) for _ in range(2)),\n",
    "    partial(\n",
    "        wfnet_fit_driver,\n",
    "        sampler,\n",
    "        n_epochs=1,\n",
    "        n_sampling_steps=550,\n",
    "        batch_size=1_000,\n",
    "        n_discard=50,\n",
    "        range_sampling=partial(trange, desc='sampling steps', leave=False),\n",
    "        range_training=partial(trange, desc='training steps', leave=False),\n",
    "    ),\n",
    "    ({'samplings': range(1)}, {'samplings': trange(10, desc='samplings')}),\n",
    "    (SummaryWriter(f'runs/wfnet/09/{s}') for s in ['pretrain', 'variance']),\n",
    ")"
   ]
  },
  {
   "cell_type": "code",
   "execution_count": null,
   "metadata": {},
   "outputs": [],
   "source": [
    "plot_func_x(\n",
    "    lambda x: local_energy(x[:, None], wfnet, wfnet.geom)[0],\n",
    "    [-15, 15],\n",
    "    device='cuda'\n",
    ")\n",
    "plt.ylim((-1, 0));"
   ]
  },
  {
   "cell_type": "code",
   "execution_count": null,
   "metadata": {},
   "outputs": [],
   "source": [
    "plot_func_xy(\n",
    "    lambda x: wfnet.debug('jastrow', x[:, None]),\n",
    "    [[-10, 10], [-10, 10]],\n",
    "    device='cuda'\n",
    ");"
   ]
  },
  {
   "cell_type": "code",
   "execution_count": null,
   "metadata": {},
   "outputs": [],
   "source": [
    "n_walker = 1_000\n",
    "sampler = langevin_monte_carlo(\n",
    "    wfnet,\n",
    "    torch.randn(n_walker, 1, 3, device='cuda'),\n",
    "    tau=0.1,\n",
    ")\n",
    "rs, _, info = samples_from(sampler, trange(500))\n",
    "E_loc = local_energy(rs.flatten(end_dim=1), wfnet, wfnet.geom)[0].view(n_walker, -1)\n",
    "info.acceptance.mean()"
   ]
  },
  {
   "cell_type": "code",
   "execution_count": null,
   "metadata": {},
   "outputs": [],
   "source": [
    "plt.plot(E_loc.mean(dim=0).cpu().numpy())\n",
    "plt.ylim(-0.7, -0.5)"
   ]
  },
  {
   "cell_type": "code",
   "execution_count": null,
   "metadata": {},
   "outputs": [],
   "source": [
    "plt.hist(E_loc[:, 50:].flatten().clamp(-1.25, 0).cpu().numpy(), bins=100);\n",
    "plt.xlim(-1.25, 0)"
   ]
  },
  {
   "cell_type": "code",
   "execution_count": null,
   "metadata": {},
   "outputs": [],
   "source": [
    "E_loc[:, 50:].std()"
   ]
  },
  {
   "cell_type": "code",
   "execution_count": null,
   "metadata": {},
   "outputs": [],
   "source": [
    "scf_energy_big, E_loc[:, 50:].mean().item(), (E_loc[:, 50:].mean(dim=1).std()/np.sqrt(E_loc.shape[0])).item()"
   ]
  },
  {
   "cell_type": "code",
   "execution_count": null,
   "metadata": {},
   "outputs": [],
   "source": [
    "bounds = [-2, 2]\n",
    "plot_func_x(lambda x: torch.log(gtowf_big(x[:, None])), bounds, label='~exact WF');\n",
    "plot_func_x(lambda x: torch.log(gtowf(x[:, None])), bounds, label='small-basis WF');\n",
    "plot_func_x(lambda x: torch.log(wfnet(x[:, None]))-0.2, bounds, device='cuda', label='DL WF');\n",
    "plot_func_x(lambda x: torch.log(wfnet.debug('asymp_nuc', x[:, None]))-0.89, bounds, device='cuda', label='asymptotics');\n",
    "plot_func_x(lambda x: wfnet.debug('jastrow', x[:, None])-0.2, bounds, device='cuda', label='NN');\n",
    "plt.legend(loc='lower center', bbox_to_anchor=(0.5, -0.35), ncol=2)\n",
    "plt.ylim(-1.5, None)"
   ]
  },
  {
   "cell_type": "markdown",
   "metadata": {},
   "source": [
    "## H2"
   ]
  },
  {
   "cell_type": "markdown",
   "metadata": {},
   "source": [
    "### GTO WF"
   ]
  },
  {
   "cell_type": "code",
   "execution_count": null,
   "metadata": {},
   "outputs": [],
   "source": [
    "mol = gto.M(\n",
    "    atom=geomdb['H2'].as_pyscf(),\n",
    "    unit='bohr',\n",
    "    basis='aug-cc-pvqz',\n",
    "    charge=0,\n",
    "    spin=0,\n",
    ")\n",
    "mf_big = scf.RHF(mol)\n",
    "mf_big.kernel()\n",
    "gtowf_big = PyscfGTOSlaterWF(mf_big)"
   ]
  },
  {
   "cell_type": "code",
   "execution_count": null,
   "metadata": {},
   "outputs": [],
   "source": [
    "mol = gto.M(\n",
    "    atom=geomdb['H2'].as_pyscf(),\n",
    "    unit='bohr',\n",
    "    basis='6-311g',\n",
    "    charge=0,\n",
    "    spin=0,\n",
    ")\n",
    "mf = scf.RHF(mol)\n",
    "scf_energy = mf.kernel()\n",
    "gtowf = TorchGTOSlaterWF(mf)"
   ]
  },
  {
   "cell_type": "code",
   "execution_count": null,
   "metadata": {},
   "outputs": [],
   "source": [
    "n_walker = 1_000\n",
    "sampler = langevin_monte_carlo(\n",
    "    gtowf,\n",
    "    torch.randn(n_walker, 2, 3).cuda(),\n",
    "    tau=0.1,\n",
    ")\n",
    "rs, _, info = samples_from(sampler, trange(500))\n",
    "E_loc = local_energy(rs.flatten(end_dim=1), gtowf, geomdb['H2'].as_param_dict().cuda())[0].view(n_walker, -1)\n",
    "info.acceptance.mean()"
   ]
  },
  {
   "cell_type": "code",
   "execution_count": null,
   "metadata": {},
   "outputs": [],
   "source": [
    "plt.plot(E_loc.mean(dim=0).cpu().numpy())\n",
    "plt.ylim(-1.2, -1)"
   ]
  },
  {
   "cell_type": "code",
   "execution_count": null,
   "metadata": {},
   "outputs": [],
   "source": [
    "plt.hist(E_loc[:, 100:].flatten().clamp(-2, 0).cpu().numpy(), bins=100);"
   ]
  },
  {
   "cell_type": "code",
   "execution_count": null,
   "metadata": {},
   "outputs": [],
   "source": [
    "E_loc[:, 100:].std()"
   ]
  },
  {
   "cell_type": "code",
   "execution_count": null,
   "metadata": {},
   "outputs": [],
   "source": [
    "scf_energy, E_loc[:, 100:].mean().item(), (E_loc[:, 100:].mean(dim=1).std()/np.sqrt(E_loc.shape[0])).item()"
   ]
  },
  {
   "cell_type": "code",
   "execution_count": null,
   "metadata": {},
   "outputs": [],
   "source": [
    "plt.plot(blocking(E_loc[:, 100:]).numpy())"
   ]
  },
  {
   "cell_type": "code",
   "execution_count": null,
   "metadata": {},
   "outputs": [],
   "source": [
    "plt.plot(autocorr_coeff(range(50), E_loc[:, 100:]).numpy())\n",
    "plt.axhline()"
   ]
  },
  {
   "cell_type": "markdown",
   "metadata": {},
   "source": [
    "### Net WF"
   ]
  },
  {
   "cell_type": "code",
   "execution_count": null,
   "metadata": {},
   "outputs": [],
   "source": [
    "wfnet0 = WFNet(geomdb['H2'], 2, n_orbital_layers=4, ion_pot=0.7).cuda()\n",
    "n_walker = 10_000\n",
    "sampler0 = langevin_monte_carlo(\n",
    "    wfnet0,\n",
    "    torch.randn(n_walker, 2, 3, device='cuda'),\n",
    "    tau=0.1,\n",
    ")\n",
    "rs0, _, info = samples_from(sampler0, trange(500))\n",
    "E_loc0 = batch_eval_tuple(\n",
    "    local_energy,\n",
    "    tqdm(rs0.flatten(end_dim=1).split(50_000)),\n",
    "    wfnet0,\n",
    "    wfnet0.geom\n",
    ")[0].view(n_walker, -1)\n",
    "info.acceptance.mean()"
   ]
  },
  {
   "cell_type": "code",
   "execution_count": null,
   "metadata": {},
   "outputs": [],
   "source": [
    "wfnet = WFNet(geomdb['H2'], 2, n_orbital_layers=4, ion_pot=0.7).cuda()\n",
    "sampler = langevin_monte_carlo(\n",
    "    wfnet,\n",
    "    torch.randn(1_000, 2, 3, device='cuda'),\n",
    "    tau=0.1,\n",
    ")\n",
    "wfnet"
   ]
  },
  {
   "cell_type": "code",
   "execution_count": null,
   "metadata": {},
   "outputs": [],
   "source": [
    "fit_wfnet_multi(\n",
    "    wfnet,\n",
    "    (partial(loss_local_energy, E_ref=-1.1), loss_local_energy),\n",
    "    (torch.optim.Adam(wfnet.parameters(), lr=2e-3) for _ in range(2)),\n",
    "    partial(\n",
    "        wfnet_fit_driver,\n",
    "        sampler,\n",
    "        n_epochs=1,\n",
    "        n_sampling_steps=300,\n",
    "        n_discard=50,\n",
    "        range_sampling=partial(trange, desc='sampling steps', leave=False),\n",
    "        range_training=partial(trange, desc='training steps', leave=False),\n",
    "    ),\n",
    "    (\n",
    "        {'samplings': trange(3, desc='samplings'), 'batch_size': 5_000},\n",
    "        {'samplings': trange(10, desc='samplings'), 'batch_size': 2_000},\n",
    "    ),\n",
    "    (SummaryWriter(f'runs/H2/wfnet/10/{s}') for s in ['pretrain', 'variance']),\n",
    ")"
   ]
  },
  {
   "cell_type": "code",
   "execution_count": null,
   "metadata": {},
   "outputs": [],
   "source": [
    "n_walker = 10_000\n",
    "sampler = langevin_monte_carlo(\n",
    "    wfnet,\n",
    "    torch.randn(n_walker, 2, 3, device='cuda'),\n",
    "    tau=0.1,\n",
    ")\n",
    "rs, _, info = samples_from(sampler, trange(500))\n",
    "E_loc = batch_eval_tuple(\n",
    "    local_energy,\n",
    "    tqdm(rs.flatten(end_dim=1).split(50_000)),\n",
    "    wfnet,\n",
    "    wfnet.geom\n",
    ")[0].view(n_walker, -1)\n",
    "info.acceptance.mean()"
   ]
  },
  {
   "cell_type": "code",
   "execution_count": null,
   "metadata": {},
   "outputs": [],
   "source": [
    "plt.plot(E_loc0.mean(dim=0).cpu().numpy())\n",
    "plt.plot(E_loc.mean(dim=0).cpu().numpy())\n",
    "plt.ylim(-1.2, -1)"
   ]
  },
  {
   "cell_type": "code",
   "execution_count": null,
   "metadata": {},
   "outputs": [],
   "source": [
    "plt.hist(E_loc0[:, 50:].flatten().clamp(-2, 0).cpu().numpy(), bins=100);\n",
    "plt.hist(E_loc[:, 50:].flatten().clamp(-2, 0).cpu().numpy(), bins=100);\n",
    "plt.xlim(-2, 0)"
   ]
  },
  {
   "cell_type": "code",
   "execution_count": null,
   "metadata": {},
   "outputs": [],
   "source": [
    "E_loc[:, 50:].std()"
   ]
  },
  {
   "cell_type": "code",
   "execution_count": null,
   "metadata": {},
   "outputs": [],
   "source": [
    "E_loc[:, 50:].mean().item(), (E_loc[:, 50:].mean(dim=1).std()/np.sqrt(E_loc.shape[0])).item()"
   ]
  },
  {
   "cell_type": "code",
   "execution_count": null,
   "metadata": {},
   "outputs": [],
   "source": [
    "rs_flat = rs[:, 50:].flatten(end_dim=1)\n",
    "rs_flat0 = rs0[:, 50:].flatten(end_dim=1)"
   ]
  },
  {
   "cell_type": "code",
   "execution_count": null,
   "metadata": {},
   "outputs": [],
   "source": [
    "density = GaussianKDEstimator(rs_flat.flatten(end_dim=1), bw=0.05, weights=2)\n",
    "density0 = GaussianKDEstimator(rs_flat0.flatten(end_dim=1), bw=0.05, weights=2)\n",
    "plot_func_x(density0, [-2, 3], device='cuda');\n",
    "plot_func_x(density, [-2, 3], device='cuda');\n",
    "plot_func_x(lambda x: electron_density_of(mf_big, x), [-2, 3], is_torch=False)"
   ]
  },
  {
   "cell_type": "code",
   "execution_count": null,
   "metadata": {},
   "outputs": [],
   "source": [
    "samples = (rs_flat[:, 0] - rs_flat[:, 1]).norm(dim=-1)\n",
    "samples0 = (rs_flat0[:, 0] - rs_flat0[:, 1]).norm(dim=-1)\n",
    "radial_pair = GaussianKDEstimator(\n",
    "    samples[:, None],\n",
    "    bw=0.01,\n",
    "    weights=1/samples**2\n",
    ")\n",
    "radial_pair0 = GaussianKDEstimator(\n",
    "    samples0[:, None],\n",
    "    bw=0.01,\n",
    "    weights=1/samples**2\n",
    ")"
   ]
  },
  {
   "cell_type": "code",
   "execution_count": null,
   "metadata": {},
   "outputs": [],
   "source": [
    "plot_func(lambda r: radial_pair0(r[:, None]), (0, 5), device='cuda');\n",
    "plot_func(lambda r: radial_pair(r[:, None]), (0, 5), device='cuda');"
   ]
  },
  {
   "cell_type": "markdown",
   "metadata": {},
   "source": [
    "### HanNet"
   ]
  },
  {
   "cell_type": "code",
   "execution_count": null,
   "metadata": {},
   "outputs": [],
   "source": [
    "wfnet = HanNet(\n",
    "    geomdb['H2'],\n",
    "    1,\n",
    "    1,\n",
    "    ion_pot=0.7,\n",
    "    # basis_dim=2,\n",
    "    # kernel_dim=1,\n",
    "    # embedding_dim=1,\n",
    "    # latent_dim=1,\n",
    "    # n_interactions=1,\n",
    "    # n_orbital_layers=1,\n",
    ")\n",
    "wfnet"
   ]
  }
 ],
 "metadata": {
  "kernelspec": {
   "display_name": "dl-qmc",
   "language": "python",
   "name": "dl-qmc"
  },
  "language_info": {
   "codemirror_mode": {
    "name": "ipython",
    "version": 3
   },
   "file_extension": ".py",
   "mimetype": "text/x-python",
   "name": "python",
   "nbconvert_exporter": "python",
   "pygments_lexer": "ipython3",
   "version": "3.7.2"
  },
  "varInspector": {
   "cols": {
    "lenName": 16,
    "lenType": 16,
    "lenVar": 40
   },
   "kernels_config": {
    "python": {
     "delete_cmd_postfix": "",
     "delete_cmd_prefix": "del ",
     "library": "var_list.py",
     "varRefreshCmd": "print(var_dic_list())"
    },
    "r": {
     "delete_cmd_postfix": ") ",
     "delete_cmd_prefix": "rm(",
     "library": "var_list.r",
     "varRefreshCmd": "cat(var_dic_list()) "
    }
   },
   "position": {
    "height": "687px",
    "left": "593px",
    "right": "20px",
    "top": "120px",
    "width": "587px"
   },
   "types_to_exclude": [
    "module",
    "function",
    "builtin_function_or_method",
    "instance",
    "_Feature"
   ],
   "window_display": false
  }
 },
 "nbformat": 4,
 "nbformat_minor": 2
}
