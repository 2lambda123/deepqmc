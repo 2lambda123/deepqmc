{
 "cells": [
  {
   "cell_type": "code",
   "execution_count": null,
   "metadata": {},
   "outputs": [],
   "source": [
    "%load_ext autoreload\n",
    "%autoreload 2\n",
    "%config InlineBackend.figure_format = 'svg' \n",
    "%config InlineBackend.print_figure_kwargs = {'bbox_inches': 'tight', 'dpi': 300}\n",
    "%matplotlib inline"
   ]
  },
  {
   "cell_type": "code",
   "execution_count": null,
   "metadata": {},
   "outputs": [],
   "source": [
    "import time\n",
    "from functools import partial\n",
    "\n",
    "import numpy as np\n",
    "import matplotlib.pyplot as plt\n",
    "from scipy import special\n",
    "import torch\n",
    "from torch import nn\n",
    "import pyscf\n",
    "from pyscf import gto, scf\n",
    "from tqdm.auto import tqdm, trange\n",
    "from tensorboardX import SummaryWriter\n",
    "\n",
    "from dlqmc.nn import WFNet, DistanceBasis\n",
    "from dlqmc.fit import fit_wfnet, loss_local_energy, wfnet_fit_driver\n",
    "from dlqmc.sampling import samples_from, langevin_monte_carlo\n",
    "from dlqmc.physics import local_energy\n",
    "from dlqmc.gto import TorchGTOSlaterWF, PyscfGTOSlaterWF\n",
    "from dlqmc.analysis import autocorr_coeff, blocking\n",
    "from dlqmc.geom import Geometry, angstrom\n",
    "from dlqmc.utils import plot_func, plot_func_xy, plot_func_x, integrate_on_mesh\n",
    "import dlqmc.torchext as torchext"
   ]
  },
  {
   "cell_type": "code",
   "execution_count": null,
   "metadata": {},
   "outputs": [],
   "source": [
    "h_atom = Geometry([[1, 0, 0]], [1])\n",
    "h2_plus = Geometry([[-1, 0, 0], [1, 0, 0]], [1, 1])\n",
    "h2_mol = Geometry([[0, 0, 0], [0.742*angstrom, 0, 0]], [1, 1])\n",
    "be_atom = Geometry([[0, 0, 0]], [4])"
   ]
  },
  {
   "cell_type": "markdown",
   "metadata": {},
   "source": [
    "## H2+"
   ]
  },
  {
   "cell_type": "markdown",
   "metadata": {},
   "source": [
    "### GTO WF"
   ]
  },
  {
   "cell_type": "code",
   "execution_count": null,
   "metadata": {},
   "outputs": [],
   "source": [
    "mol = gto.M(\n",
    "    atom=h2_plus.as_pyscf(),\n",
    "    unit='bohr',\n",
    "    basis='aug-cc-pv5z',\n",
    "    charge=1,\n",
    "    spin=1,\n",
    ")\n",
    "mf = scf.RHF(mol)\n",
    "scf_energy_big = mf.kernel()\n",
    "gtowf_big = PyscfGTOSlaterWF(mf)"
   ]
  },
  {
   "cell_type": "code",
   "execution_count": null,
   "metadata": {},
   "outputs": [],
   "source": [
    "mol = gto.M(\n",
    "    atom=h2_plus.as_pyscf(),\n",
    "    unit='bohr',\n",
    "    basis='6-311g',\n",
    "    charge=1,\n",
    "    spin=1,\n",
    ")\n",
    "mf = scf.RHF(mol)\n",
    "scf_energy = mf.kernel()\n",
    "gtowf = TorchGTOSlaterWF(mf)"
   ]
  },
  {
   "cell_type": "code",
   "execution_count": null,
   "metadata": {},
   "outputs": [],
   "source": [
    "plot_func_x(lambda x: pyscf.dft.numint.eval_ao(mol, x), [-7, 7], is_torch=False);\n",
    "plt.ylim(-1, 1)"
   ]
  },
  {
   "cell_type": "code",
   "execution_count": null,
   "metadata": {},
   "outputs": [],
   "source": [
    "plot_func_x(lambda x: pyscf.dft.numint.eval_ao(gtowf_big._mol, x), [-7, 7], is_torch=False);\n",
    "plt.ylim(-1, 1)"
   ]
  },
  {
   "cell_type": "code",
   "execution_count": null,
   "metadata": {},
   "outputs": [],
   "source": [
    "integrate_on_mesh(lambda x: gtowf(x.cuda()[:, None])**2, [(-6, 6), (-4, 4), (-4, 4)])"
   ]
  },
  {
   "cell_type": "code",
   "execution_count": null,
   "metadata": {},
   "outputs": [],
   "source": [
    "plot_func_x(lambda x: local_energy(x[:, None], gtowf, h2_plus)[0], [-3, 3])\n",
    "plt.ylim((-10, 0));"
   ]
  },
  {
   "cell_type": "code",
   "execution_count": null,
   "metadata": {},
   "outputs": [],
   "source": [
    "n_walker = 1_000\n",
    "sampler = langevin_monte_carlo(\n",
    "    gtowf,\n",
    "    torch.randn(n_walker, 1, 3),\n",
    "    tau=0.1,\n",
    ")\n",
    "rs, psis, info = samples_from(sampler, trange(500))\n",
    "E_loc = local_energy(rs.flatten(end_dim=1), gtowf, h2_plus)[0].view(n_walker, -1)\n",
    "info.acceptance.mean()"
   ]
  },
  {
   "cell_type": "code",
   "execution_count": null,
   "metadata": {},
   "outputs": [],
   "source": [
    "plt.plot(*rs[0][:50, 0, :2].numpy().T)\n",
    "plt.gca().set_aspect(1)"
   ]
  },
  {
   "cell_type": "code",
   "execution_count": null,
   "metadata": {},
   "outputs": [],
   "source": [
    "plt.plot(E_loc.mean(dim=0).numpy())\n",
    "plt.ylim(-0.7, -0.5)"
   ]
  },
  {
   "cell_type": "code",
   "execution_count": null,
   "metadata": {},
   "outputs": [],
   "source": [
    "plt.hist2d(\n",
    "    *rs[:, 50:].flatten(end_dim=1)[:, 0, :2].numpy().T,\n",
    "    bins=100,\n",
    "    range=[[-3, 3], [-3, 3]],\n",
    ")                                   \n",
    "plt.gca().set_aspect(1)"
   ]
  },
  {
   "cell_type": "code",
   "execution_count": null,
   "metadata": {},
   "outputs": [],
   "source": [
    "plt.hist(E_loc[:, 50:].flatten().clamp(-1.25, 0).numpy(), bins=100);"
   ]
  },
  {
   "cell_type": "code",
   "execution_count": null,
   "metadata": {},
   "outputs": [],
   "source": [
    "E_loc[:, 50:].std()"
   ]
  },
  {
   "cell_type": "code",
   "execution_count": null,
   "metadata": {},
   "outputs": [],
   "source": [
    "scf_energy, E_loc[:, 50:].mean().item(), (E_loc[:, 50:].mean(dim=1).std()/np.sqrt(E_loc.shape[0])).item()"
   ]
  },
  {
   "cell_type": "code",
   "execution_count": null,
   "metadata": {},
   "outputs": [],
   "source": [
    "plt.plot(blocking(E_loc[:, 50:]).numpy())"
   ]
  },
  {
   "cell_type": "code",
   "execution_count": null,
   "metadata": {},
   "outputs": [],
   "source": [
    "plt.plot(autocorr_coeff(range(50), E_loc[:, 50:]).numpy())\n",
    "plt.axhline()"
   ]
  },
  {
   "cell_type": "markdown",
   "metadata": {},
   "source": [
    "### Net WF"
   ]
  },
  {
   "cell_type": "code",
   "execution_count": null,
   "metadata": {},
   "outputs": [],
   "source": [
    "plot_func(DistanceBasis(32), [1, 11]);"
   ]
  },
  {
   "cell_type": "code",
   "execution_count": null,
   "metadata": {},
   "outputs": [],
   "source": [
    "wfnet = WFNet(h2_plus, 1, n_orbital_layers=4, ion_pot=0.7).cuda()\n",
    "sampler = langevin_monte_carlo(\n",
    "    wfnet,\n",
    "    torch.randn(1_000, 1, 3, device='cuda'),\n",
    "    tau=0.1,\n",
    ")\n",
    "wfnet"
   ]
  },
  {
   "cell_type": "code",
   "execution_count": null,
   "metadata": {},
   "outputs": [],
   "source": [
    "exp_label = 'wfnet/06'\n",
    "with SummaryWriter(f'runs/{exp_label}/pretrain') as writer:\n",
    "    fit_wfnet(\n",
    "        wfnet,\n",
    "        partial(loss_local_energy, E_ref=-0.5),\n",
    "        torch.optim.Adam(wfnet.parameters(), lr=2e-3),\n",
    "        wfnet_fit_driver(\n",
    "            sampler,\n",
    "            samplings=range(1),\n",
    "            n_epochs=5,\n",
    "            n_sampling_steps=550,\n",
    "            batch_size=10_000,\n",
    "            n_discard=50,\n",
    "            range_sampling=partial(trange, desc='sampling steps', leave=False),\n",
    "            range_training=partial(trange, desc='training steps', leave=False),\n",
    "        ),\n",
    "        writer=writer,\n",
    "    )\n",
    "with SummaryWriter(f'runs/{exp_label}/variance') as writer:\n",
    "    fit_wfnet(\n",
    "        wfnet,\n",
    "        loss_local_energy,\n",
    "        torch.optim.Adam(wfnet.parameters(), lr=3e-3),\n",
    "        wfnet_fit_driver(\n",
    "            sampler,\n",
    "            samplings=trange(10, desc='samplings'),\n",
    "            n_epochs=5,\n",
    "            n_sampling_steps=550,\n",
    "            batch_size=10_000,\n",
    "            n_discard=50,\n",
    "            range_sampling=partial(trange, desc='sampling steps', leave=False),\n",
    "            range_training=partial(trange, desc='training steps', leave=False),\n",
    "        ),\n",
    "        writer=writer,\n",
    "    )\n",
    "wfnet.cpu();"
   ]
  },
  {
   "cell_type": "code",
   "execution_count": null,
   "metadata": {},
   "outputs": [],
   "source": [
    "plot_func_x(\n",
    "    lambda x: local_energy(x[:, None], wfnet, wfnet.geom)[0],\n",
    "    [-15, 15],\n",
    ")\n",
    "plt.ylim((-1, 0));"
   ]
  },
  {
   "cell_type": "code",
   "execution_count": null,
   "metadata": {},
   "outputs": [],
   "source": [
    "plot_func_xy(\n",
    "    lambda x: wfnet.debug('jastrow', x[:, None]),\n",
    "    [[-10, 10], [-10, 10]]\n",
    ");"
   ]
  },
  {
   "cell_type": "code",
   "execution_count": null,
   "metadata": {},
   "outputs": [],
   "source": [
    "n_walker = 1_000\n",
    "sampler = langevin_monte_carlo(\n",
    "    wfnet.cuda(),\n",
    "    torch.randn(n_walker, 1, 3, device='cuda'),\n",
    "    tau=0.1,\n",
    ")\n",
    "rs, _, info = samples_from(sampler, trange(500))\n",
    "E_loc = local_energy(rs.flatten(end_dim=1), wfnet, wfnet.geom)[0].view(n_walker, -1)\n",
    "rs = rs.cpu()\n",
    "E_loc = E_loc.cpu()\n",
    "wfnet.cpu()\n",
    "info.acceptance.mean()"
   ]
  },
  {
   "cell_type": "code",
   "execution_count": null,
   "metadata": {},
   "outputs": [],
   "source": [
    "plt.plot(E_loc.mean(dim=0).numpy())\n",
    "plt.ylim(-0.7, -0.5)"
   ]
  },
  {
   "cell_type": "code",
   "execution_count": null,
   "metadata": {},
   "outputs": [],
   "source": [
    "plt.hist(E_loc[:, 50:].flatten().clamp(-1.25, 0).numpy(), bins=100);\n",
    "plt.xlim(-1.25, 0)"
   ]
  },
  {
   "cell_type": "code",
   "execution_count": null,
   "metadata": {},
   "outputs": [],
   "source": [
    "E_loc[:, 50:].std()"
   ]
  },
  {
   "cell_type": "code",
   "execution_count": null,
   "metadata": {},
   "outputs": [],
   "source": [
    "scf_energy_big, E_loc[:, 50:].mean().item(), (E_loc[:, 50:].mean(dim=1).std()/np.sqrt(E_loc.shape[0])).item()"
   ]
  },
  {
   "cell_type": "code",
   "execution_count": null,
   "metadata": {},
   "outputs": [],
   "source": [
    "bounds = [-2, 2]\n",
    "plot_func_x(lambda x: torch.log(gtowf_big(x[:, None])), bounds, label='~exact WF');\n",
    "plot_func_x(lambda x: torch.log(gtowf(x[:, None])), bounds, label='small-basis WF');\n",
    "plot_func_x(lambda x: torch.log(wfnet(x[:, None]))-0.2, bounds, label='DL WF');\n",
    "plot_func_x(lambda x: torch.log(wfnet.debug('asymp', x[:, None]))-0.89, bounds, label='asymptotics');\n",
    "plot_func_x(lambda x: wfnet.debug('jastrow', x[:, None])-0.2, bounds, label='NN');\n",
    "plt.legend(loc='lower center', bbox_to_anchor=(0.5, -0.35), ncol=2)\n",
    "plt.ylim(-1.5, None)"
   ]
  },
  {
   "cell_type": "markdown",
   "metadata": {},
   "source": [
    "## H2"
   ]
  },
  {
   "cell_type": "markdown",
   "metadata": {},
   "source": [
    "### GTO WF"
   ]
  },
  {
   "cell_type": "code",
   "execution_count": null,
   "metadata": {},
   "outputs": [],
   "source": [
    "mol = gto.M(\n",
    "    atom=h2_mol.as_pyscf(),\n",
    "    unit='bohr',\n",
    "    basis='aug-cc-pvqz',\n",
    "    charge=0,\n",
    "    spin=2,\n",
    ")\n",
    "mf = scf.RHF(mol)\n",
    "mf.kernel()\n",
    "gtowf = PyscfGTOSlaterWF(mf)"
   ]
  },
  {
   "cell_type": "code",
   "execution_count": null,
   "metadata": {},
   "outputs": [],
   "source": [
    "mol = gto.M(\n",
    "    atom=h2_mol.as_pyscf(),\n",
    "    unit='bohr',\n",
    "    basis='6-311g',\n",
    "    charge=0,\n",
    "    spin=2,\n",
    ")\n",
    "mf = scf.RHF(mol)\n",
    "scf_energy = mf.kernel()\n",
    "gtowf = TorchGTOSlaterWF(mf)"
   ]
  },
  {
   "cell_type": "code",
   "execution_count": null,
   "metadata": {},
   "outputs": [],
   "source": [
    "n_walker = 10_000\n",
    "sampler = langevin_monte_carlo(\n",
    "    gtowf,\n",
    "    torch.randn(n_walker, 2, 3).cuda(),\n",
    "    tau=0.1,\n",
    ")\n",
    "rs, _, info = samples_from(sampler, trange(500))\n",
    "E_loc = local_energy(rs.flatten(end_dim=1), gtowf, h2_mol.as_param_dict().cuda())[0].view(n_walker, -1).cpu()\n",
    "info.acceptance.mean()"
   ]
  },
  {
   "cell_type": "code",
   "execution_count": null,
   "metadata": {},
   "outputs": [],
   "source": [
    "plt.plot(E_loc.mean(dim=0).numpy())\n",
    "plt.ylim(-0.8, -0.7)"
   ]
  },
  {
   "cell_type": "code",
   "execution_count": null,
   "metadata": {},
   "outputs": [],
   "source": [
    "plt.hist(E_loc[:, 100:].flatten().clamp(-1.25, 0).numpy(), bins=100);"
   ]
  },
  {
   "cell_type": "code",
   "execution_count": null,
   "metadata": {},
   "outputs": [],
   "source": [
    "E_loc[:, 100:].std()"
   ]
  },
  {
   "cell_type": "code",
   "execution_count": null,
   "metadata": {},
   "outputs": [],
   "source": [
    "scf_energy, E_loc[:, 100:].mean().item(), (E_loc[:, 100:].mean(dim=1).std()/np.sqrt(E_loc.shape[0])).item()"
   ]
  },
  {
   "cell_type": "code",
   "execution_count": null,
   "metadata": {},
   "outputs": [],
   "source": [
    "plt.plot(blocking(E_loc[:, 100:]).numpy())"
   ]
  },
  {
   "cell_type": "code",
   "execution_count": null,
   "metadata": {},
   "outputs": [],
   "source": [
    "plt.plot(autocorr_coeff(range(50), E_loc[:, 100:]).numpy())\n",
    "plt.axhline()"
   ]
  },
  {
   "cell_type": "markdown",
   "metadata": {},
   "source": [
    "### Net WF"
   ]
  },
  {
   "cell_type": "code",
   "execution_count": null,
   "metadata": {},
   "outputs": [],
   "source": [
    "mol = gto.M(\n",
    "    atom=as_pyscf_atom(h2_mol),\n",
    "    unit='bohr',\n",
    "    basis='6-311g',\n",
    "    charge=1,\n",
    "    spin=1,\n",
    ")\n",
    "mf = scf.RHF(mol)\n",
    "scf_energy = mf.kernel()\n",
    "gtowf = GTOWF(mf, 0, use_pyscf=False)"
   ]
  },
  {
   "cell_type": "code",
   "execution_count": null,
   "metadata": {},
   "outputs": [],
   "source": [
    "wfnet = WFNet(h2_mol, 2, ion_pot=0.7).cuda()\n",
    "sampler = langevin_monte_carlo(\n",
    "    wfnet,\n",
    "    torch.randn(1_000, 2, 3, device='cuda'),\n",
    "    tau=0.1,\n",
    ")"
   ]
  },
  {
   "cell_type": "code",
   "execution_count": null,
   "metadata": {},
   "outputs": [],
   "source": [
    "exp_label = 'H2/exp01'\n",
    "with SummaryWriter(f'runs/{exp_label}/pretrain') as writer:\n",
    "    fit_wfnet(\n",
    "        wfnet,\n",
    "        partial(loss_local_energy, E_ref=-1.1),\n",
    "        torch.optim.Adam(wfnet.parameters(), lr=0.005),\n",
    "        wfnet_fit_driver(\n",
    "            sampler,\n",
    "            samplings=range(1),\n",
    "            n_epochs=5,\n",
    "            n_sampling_steps=550,\n",
    "            batch_size=10_000,\n",
    "            n_discard=50,\n",
    "            range_sampling=partial(trange, desc='sampling steps', leave=False),\n",
    "            range_training=partial(trange, desc='training steps', leave=False),\n",
    "        ),\n",
    "        writer=writer,\n",
    "    )\n",
    "with SummaryWriter(f'runs/{exp_label}/variance') as writer:\n",
    "    fit_wfnet(\n",
    "        wfnet,\n",
    "        loss_local_energy,\n",
    "        torch.optim.Adam(wfnet.parameters(), lr=0.005),\n",
    "        wfnet_fit_driver(\n",
    "            sampler,\n",
    "            samplings=trange(10, desc='samplings'),\n",
    "            n_epochs=5,\n",
    "            n_sampling_steps=550,\n",
    "            batch_size=10_000,\n",
    "            n_discard=50,\n",
    "            range_sampling=partial(trange, desc='sampling steps', leave=False),\n",
    "            range_training=partial(trange, desc='training steps', leave=False),\n",
    "        ),\n",
    "        writer=writer,\n",
    "    )\n",
    "wfnet.cpu();"
   ]
  },
  {
   "cell_type": "code",
   "execution_count": null,
   "metadata": {},
   "outputs": [],
   "source": [
    "n_walker = 1_000\n",
    "sampler = langevin_monte_carlo(\n",
    "    wfnet.cuda(),\n",
    "    torch.randn(n_walker, 2, 3, device='cuda'),\n",
    "    tau=0.1,\n",
    ")\n",
    "samples, info = samples_from(sampler, trange(500))\n",
    "E_loc = local_energy(samples.flatten(end_dim=1), wfnet, wfnet.geom)[0].view(n_walker, -1)\n",
    "samples = samples.cpu()\n",
    "E_loc = E_loc.cpu()\n",
    "wfnet.cpu()\n",
    "info.acceptance.mean()"
   ]
  },
  {
   "cell_type": "code",
   "execution_count": null,
   "metadata": {},
   "outputs": [],
   "source": [
    "plt.plot(E_loc.mean(dim=0).numpy())"
   ]
  },
  {
   "cell_type": "code",
   "execution_count": null,
   "metadata": {},
   "outputs": [],
   "source": [
    "def f(loops, steps):\n",
    "    for loop in loops:\n",
    "        for step in steps:\n",
    "            time.sleep(0.1)\n",
    "\n",
    "\n",
    "f(range(2), range(10))\n",
    "f(trange(2), trange(10, leave=False))"
   ]
  },
  {
   "cell_type": "markdown",
   "metadata": {},
   "source": [
    "## Be atom"
   ]
  },
  {
   "cell_type": "code",
   "execution_count": null,
   "metadata": {},
   "outputs": [],
   "source": [
    "mol = gto.M(\n",
    "    atom=be_atom.as_pyscf(),\n",
    "    unit='bohr',\n",
    "    basis='6-311g',\n",
    "    charge=0,\n",
    "    spin=0,\n",
    ")\n",
    "mf = scf.RHF(mol)\n",
    "mf.kernel()\n",
    "gtowf = PyscfGTOSlaterWF(mf)"
   ]
  },
  {
   "cell_type": "code",
   "execution_count": null,
   "metadata": {},
   "outputs": [],
   "source": [
    "rs = torch.rand(100, 4, 3)"
   ]
  },
  {
   "cell_type": "code",
   "execution_count": null,
   "metadata": {},
   "outputs": [],
   "source": [
    "gtowf(rs)"
   ]
  }
 ],
 "metadata": {
  "kernelspec": {
   "display_name": "dl-qmc",
   "language": "python",
   "name": "dl-qmc"
  },
  "language_info": {
   "codemirror_mode": {
    "name": "ipython",
    "version": 3
   },
   "file_extension": ".py",
   "mimetype": "text/x-python",
   "name": "python",
   "nbconvert_exporter": "python",
   "pygments_lexer": "ipython3",
   "version": "3.7.2"
  },
  "varInspector": {
   "cols": {
    "lenName": 16,
    "lenType": 16,
    "lenVar": 40
   },
   "kernels_config": {
    "python": {
     "delete_cmd_postfix": "",
     "delete_cmd_prefix": "del ",
     "library": "var_list.py",
     "varRefreshCmd": "print(var_dic_list())"
    },
    "r": {
     "delete_cmd_postfix": ") ",
     "delete_cmd_prefix": "rm(",
     "library": "var_list.r",
     "varRefreshCmd": "cat(var_dic_list()) "
    }
   },
   "position": {
    "height": "687px",
    "left": "593px",
    "right": "20px",
    "top": "120px",
    "width": "587px"
   },
   "types_to_exclude": [
    "module",
    "function",
    "builtin_function_or_method",
    "instance",
    "_Feature"
   ],
   "window_display": false
  }
 },
 "nbformat": 4,
 "nbformat_minor": 2
}
