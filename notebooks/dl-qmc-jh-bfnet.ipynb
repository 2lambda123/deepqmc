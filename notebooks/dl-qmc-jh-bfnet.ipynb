{
 "cells": [
  {
   "cell_type": "code",
   "execution_count": null,
   "metadata": {},
   "outputs": [],
   "source": [
    "%load_ext autoreload\n",
    "%autoreload 1\n",
    "%config InlineBackend.figure_format = 'svg' \n",
    "%config InlineBackend.print_figure_kwargs = {'bbox_inches': 'tight', 'dpi': 300}\n",
    "%matplotlib inline"
   ]
  },
  {
   "cell_type": "code",
   "execution_count": null,
   "metadata": {},
   "outputs": [],
   "source": [
    "%aimport dlqmc.utils, dlqmc.sampling, dlqmc.analysis, dlqmc.gto, \\\n",
    "    dlqmc.physics, dlqmc.fit, dlqmc.torchext, dlqmc.geom, \\\n",
    "    dlqmc.grad, dlqmc.nn, \\\n",
    "    dlqmc.nn.base, dlqmc.nn.wfnet, dlqmc.nn.bfnet"
   ]
  },
  {
   "cell_type": "code",
   "execution_count": null,
   "metadata": {},
   "outputs": [],
   "source": [
    "import torch\n",
    "from pyscf.data.nist import BOHR\n",
    "\n",
    "from dlqmc.geom import Geometry\n",
    "from dlqmc.nn import BFNet"
   ]
  },
  {
   "cell_type": "code",
   "execution_count": null,
   "metadata": {},
   "outputs": [],
   "source": [
    "h_atom = Geometry([[1, 0, 0]], [1])\n",
    "h2_plus = Geometry([[-1, 0, 0], [1, 0, 0]], [1, 1])\n",
    "h2_mol = Geometry([[0, 0, 0], [0.742/BOHR, 0, 0]], [1, 1])\n",
    "be_atom = Geometry([[0, 0, 0]], [4])"
   ]
  },
  {
   "cell_type": "code",
   "execution_count": null,
   "metadata": {},
   "outputs": [],
   "source": [
    "bfnet = BFNet(h2_mol, 2, 0)\n",
    "bfnet"
   ]
  },
  {
   "cell_type": "code",
   "execution_count": null,
   "metadata": {},
   "outputs": [],
   "source": [
    "bfnet(torch.randn(5, 2, 3))"
   ]
  }
 ],
 "metadata": {
  "kernelspec": {
   "display_name": "dl-qmc",
   "language": "python",
   "name": "dl-qmc"
  },
  "language_info": {
   "codemirror_mode": {
    "name": "ipython",
    "version": 3
   },
   "file_extension": ".py",
   "mimetype": "text/x-python",
   "name": "python",
   "nbconvert_exporter": "python",
   "pygments_lexer": "ipython3",
   "version": "3.7.2"
  },
  "varInspector": {
   "cols": {
    "lenName": 16,
    "lenType": 16,
    "lenVar": 40
   },
   "kernels_config": {
    "python": {
     "delete_cmd_postfix": "",
     "delete_cmd_prefix": "del ",
     "library": "var_list.py",
     "varRefreshCmd": "print(var_dic_list())"
    },
    "r": {
     "delete_cmd_postfix": ") ",
     "delete_cmd_prefix": "rm(",
     "library": "var_list.r",
     "varRefreshCmd": "cat(var_dic_list()) "
    }
   },
   "types_to_exclude": [
    "module",
    "function",
    "builtin_function_or_method",
    "instance",
    "_Feature"
   ],
   "window_display": false
  }
 },
 "nbformat": 4,
 "nbformat_minor": 2
}
